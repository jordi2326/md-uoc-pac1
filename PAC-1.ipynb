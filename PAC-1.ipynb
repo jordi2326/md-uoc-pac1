{
 "cells": [
  {
   "cell_type": "code",
   "execution_count": 161,
   "metadata": {},
   "outputs": [],
   "source": [
    "import pandas as pd\n",
    "import numpy as np\n",
    "import matplotlib.pyplot as plt\n",
    "from sklearn.decomposition import PCA\n",
    "from sklearn.pipeline import make_pipeline\n",
    "from sklearn.preprocessing import StandardScaler\n",
    "from sklearn.preprocessing import scale\n",
    "from sklearn.model_selection import train_test_split\n",
    "\n"
   ]
  },
  {
   "cell_type": "markdown",
   "metadata": {},
   "source": [
    "En aquesta fase es realitzaran les seguentes tasques:\n",
    "1 -Carrega les dades\n",
    "2- Nom y nombre d'atributs\n",
    "3- Nombre de files\n",
    "4- Verifica missing values"
   ]
  },
  {
   "cell_type": "code",
   "execution_count": 76,
   "metadata": {},
   "outputs": [
    {
     "data": {
      "text/html": [
       "<div>\n",
       "<style scoped>\n",
       "    .dataframe tbody tr th:only-of-type {\n",
       "        vertical-align: middle;\n",
       "    }\n",
       "\n",
       "    .dataframe tbody tr th {\n",
       "        vertical-align: top;\n",
       "    }\n",
       "\n",
       "    .dataframe thead th {\n",
       "        text-align: right;\n",
       "    }\n",
       "</style>\n",
       "<table border=\"1\" class=\"dataframe\">\n",
       "  <thead>\n",
       "    <tr style=\"text-align: right;\">\n",
       "      <th></th>\n",
       "      <th>STATE</th>\n",
       "      <th>STATENAME</th>\n",
       "      <th>ST_CASE</th>\n",
       "      <th>VE_TOTAL</th>\n",
       "      <th>VE_FORMS</th>\n",
       "      <th>PVH_INVL</th>\n",
       "      <th>PEDS</th>\n",
       "      <th>PERSONS</th>\n",
       "      <th>PERMVIT</th>\n",
       "      <th>PERNOTMVIT</th>\n",
       "      <th>COUNTY</th>\n",
       "      <th>COUNTYNAME</th>\n",
       "      <th>CITY</th>\n",
       "      <th>CITYNAME</th>\n",
       "      <th>DAY</th>\n",
       "      <th>DAYNAME</th>\n",
       "      <th>MONTH</th>\n",
       "      <th>MONTHNAME</th>\n",
       "      <th>YEAR</th>\n",
       "      <th>DAY_WEEK</th>\n",
       "      <th>DAY_WEEKNAME</th>\n",
       "      <th>HOUR</th>\n",
       "      <th>HOURNAME</th>\n",
       "      <th>MINUTE</th>\n",
       "      <th>MINUTENAME</th>\n",
       "      <th>NHS</th>\n",
       "      <th>NHSNAME</th>\n",
       "      <th>ROUTE</th>\n",
       "      <th>ROUTENAME</th>\n",
       "      <th>TWAY_ID</th>\n",
       "      <th>TWAY_ID2</th>\n",
       "      <th>RUR_URB</th>\n",
       "      <th>RUR_URBNAME</th>\n",
       "      <th>FUNC_SYS</th>\n",
       "      <th>FUNC_SYSNAME</th>\n",
       "      <th>RD_OWNER</th>\n",
       "      <th>RD_OWNERNAME</th>\n",
       "      <th>MILEPT</th>\n",
       "      <th>MILEPTNAME</th>\n",
       "      <th>LATITUDE</th>\n",
       "      <th>LATITUDENAME</th>\n",
       "      <th>LONGITUD</th>\n",
       "      <th>LONGITUDNAME</th>\n",
       "      <th>SP_JUR</th>\n",
       "      <th>SP_JURNAME</th>\n",
       "      <th>HARM_EV</th>\n",
       "      <th>HARM_EVNAME</th>\n",
       "      <th>MAN_COLL</th>\n",
       "      <th>MAN_COLLNAME</th>\n",
       "      <th>RELJCT1</th>\n",
       "      <th>RELJCT1NAME</th>\n",
       "      <th>RELJCT2</th>\n",
       "      <th>RELJCT2NAME</th>\n",
       "      <th>TYP_INT</th>\n",
       "      <th>TYP_INTNAME</th>\n",
       "      <th>WRK_ZONE</th>\n",
       "      <th>WRK_ZONENAME</th>\n",
       "      <th>REL_ROAD</th>\n",
       "      <th>REL_ROADNAME</th>\n",
       "      <th>LGT_COND</th>\n",
       "      <th>LGT_CONDNAME</th>\n",
       "      <th>WEATHER</th>\n",
       "      <th>WEATHERNAME</th>\n",
       "      <th>SCH_BUS</th>\n",
       "      <th>SCH_BUSNAME</th>\n",
       "      <th>RAIL</th>\n",
       "      <th>RAILNAME</th>\n",
       "      <th>NOT_HOUR</th>\n",
       "      <th>NOT_HOURNAME</th>\n",
       "      <th>NOT_MIN</th>\n",
       "      <th>NOT_MINNAME</th>\n",
       "      <th>ARR_HOUR</th>\n",
       "      <th>ARR_HOURNAME</th>\n",
       "      <th>ARR_MIN</th>\n",
       "      <th>ARR_MINNAME</th>\n",
       "      <th>HOSP_HR</th>\n",
       "      <th>HOSP_HRNAME</th>\n",
       "      <th>HOSP_MN</th>\n",
       "      <th>HOSP_MNNAME</th>\n",
       "      <th>FATALS</th>\n",
       "      <th>DRUNK_DR</th>\n",
       "    </tr>\n",
       "  </thead>\n",
       "  <tbody>\n",
       "    <tr>\n",
       "      <th>0</th>\n",
       "      <td>1</td>\n",
       "      <td>Alabama</td>\n",
       "      <td>10001</td>\n",
       "      <td>1</td>\n",
       "      <td>1</td>\n",
       "      <td>0</td>\n",
       "      <td>0</td>\n",
       "      <td>4</td>\n",
       "      <td>4</td>\n",
       "      <td>0</td>\n",
       "      <td>51</td>\n",
       "      <td>ELMORE (51)</td>\n",
       "      <td>0</td>\n",
       "      <td>NOT APPLICABLE</td>\n",
       "      <td>1</td>\n",
       "      <td>1</td>\n",
       "      <td>1</td>\n",
       "      <td>January</td>\n",
       "      <td>2020</td>\n",
       "      <td>4</td>\n",
       "      <td>Wednesday</td>\n",
       "      <td>2</td>\n",
       "      <td>2:00am-2:59am</td>\n",
       "      <td>58</td>\n",
       "      <td>58</td>\n",
       "      <td>0</td>\n",
       "      <td>This section IS NOT on the NHS</td>\n",
       "      <td>4</td>\n",
       "      <td>County Road</td>\n",
       "      <td>cr-4</td>\n",
       "      <td>NaN</td>\n",
       "      <td>1</td>\n",
       "      <td>Rural</td>\n",
       "      <td>5</td>\n",
       "      <td>Major Collector</td>\n",
       "      <td>2</td>\n",
       "      <td>County Highway Agency</td>\n",
       "      <td>0</td>\n",
       "      <td>None</td>\n",
       "      <td>32.433133</td>\n",
       "      <td>32.43313333</td>\n",
       "      <td>-86.094850</td>\n",
       "      <td>-86.09485</td>\n",
       "      <td>0</td>\n",
       "      <td>No Special Jurisdiction</td>\n",
       "      <td>42</td>\n",
       "      <td>Tree (Standing Only)</td>\n",
       "      <td>0</td>\n",
       "      <td>The First Harmful Event was Not a Collision wi...</td>\n",
       "      <td>0</td>\n",
       "      <td>No</td>\n",
       "      <td>1</td>\n",
       "      <td>Non-Junction</td>\n",
       "      <td>1</td>\n",
       "      <td>Not an Intersection</td>\n",
       "      <td>0</td>\n",
       "      <td>None</td>\n",
       "      <td>4</td>\n",
       "      <td>On Roadside</td>\n",
       "      <td>2</td>\n",
       "      <td>Dark - Not Lighted</td>\n",
       "      <td>1</td>\n",
       "      <td>Clear</td>\n",
       "      <td>0</td>\n",
       "      <td>No</td>\n",
       "      <td>0000000</td>\n",
       "      <td>Not Applicable</td>\n",
       "      <td>99</td>\n",
       "      <td>Unknown</td>\n",
       "      <td>99</td>\n",
       "      <td>Unknown</td>\n",
       "      <td>3</td>\n",
       "      <td>3:00am-3:59am</td>\n",
       "      <td>10</td>\n",
       "      <td>10</td>\n",
       "      <td>99</td>\n",
       "      <td>Unknown</td>\n",
       "      <td>99</td>\n",
       "      <td>Unknown EMS Hospital Arrival Time</td>\n",
       "      <td>3</td>\n",
       "      <td>1</td>\n",
       "    </tr>\n",
       "    <tr>\n",
       "      <th>1</th>\n",
       "      <td>1</td>\n",
       "      <td>Alabama</td>\n",
       "      <td>10002</td>\n",
       "      <td>4</td>\n",
       "      <td>4</td>\n",
       "      <td>0</td>\n",
       "      <td>0</td>\n",
       "      <td>6</td>\n",
       "      <td>6</td>\n",
       "      <td>0</td>\n",
       "      <td>73</td>\n",
       "      <td>JEFFERSON (73)</td>\n",
       "      <td>350</td>\n",
       "      <td>BIRMINGHAM</td>\n",
       "      <td>2</td>\n",
       "      <td>2</td>\n",
       "      <td>1</td>\n",
       "      <td>January</td>\n",
       "      <td>2020</td>\n",
       "      <td>5</td>\n",
       "      <td>Thursday</td>\n",
       "      <td>17</td>\n",
       "      <td>5:00pm-5:59pm</td>\n",
       "      <td>18</td>\n",
       "      <td>18</td>\n",
       "      <td>0</td>\n",
       "      <td>This section IS NOT on the NHS</td>\n",
       "      <td>6</td>\n",
       "      <td>Local Street - Municipality</td>\n",
       "      <td>martin luther king jr dr</td>\n",
       "      <td>NaN</td>\n",
       "      <td>2</td>\n",
       "      <td>Urban</td>\n",
       "      <td>4</td>\n",
       "      <td>Minor Arterial</td>\n",
       "      <td>4</td>\n",
       "      <td>City or Municipal Highway Agency</td>\n",
       "      <td>0</td>\n",
       "      <td>None</td>\n",
       "      <td>33.484658</td>\n",
       "      <td>33.48465833</td>\n",
       "      <td>-86.839544</td>\n",
       "      <td>-86.83954444</td>\n",
       "      <td>0</td>\n",
       "      <td>No Special Jurisdiction</td>\n",
       "      <td>12</td>\n",
       "      <td>Motor Vehicle In-Transport</td>\n",
       "      <td>6</td>\n",
       "      <td>Angle</td>\n",
       "      <td>0</td>\n",
       "      <td>No</td>\n",
       "      <td>1</td>\n",
       "      <td>Non-Junction</td>\n",
       "      <td>1</td>\n",
       "      <td>Not an Intersection</td>\n",
       "      <td>0</td>\n",
       "      <td>None</td>\n",
       "      <td>1</td>\n",
       "      <td>On Roadway</td>\n",
       "      <td>3</td>\n",
       "      <td>Dark - Lighted</td>\n",
       "      <td>2</td>\n",
       "      <td>Rain</td>\n",
       "      <td>0</td>\n",
       "      <td>No</td>\n",
       "      <td>0000000</td>\n",
       "      <td>Not Applicable</td>\n",
       "      <td>17</td>\n",
       "      <td>5:00pm-5:59pm</td>\n",
       "      <td>18</td>\n",
       "      <td>18</td>\n",
       "      <td>17</td>\n",
       "      <td>5:00pm-5:59pm</td>\n",
       "      <td>26</td>\n",
       "      <td>26</td>\n",
       "      <td>99</td>\n",
       "      <td>Unknown</td>\n",
       "      <td>99</td>\n",
       "      <td>Unknown EMS Hospital Arrival Time</td>\n",
       "      <td>1</td>\n",
       "      <td>0</td>\n",
       "    </tr>\n",
       "    <tr>\n",
       "      <th>2</th>\n",
       "      <td>1</td>\n",
       "      <td>Alabama</td>\n",
       "      <td>10003</td>\n",
       "      <td>2</td>\n",
       "      <td>2</td>\n",
       "      <td>0</td>\n",
       "      <td>0</td>\n",
       "      <td>2</td>\n",
       "      <td>2</td>\n",
       "      <td>0</td>\n",
       "      <td>117</td>\n",
       "      <td>SHELBY (117)</td>\n",
       "      <td>0</td>\n",
       "      <td>NOT APPLICABLE</td>\n",
       "      <td>2</td>\n",
       "      <td>2</td>\n",
       "      <td>1</td>\n",
       "      <td>January</td>\n",
       "      <td>2020</td>\n",
       "      <td>5</td>\n",
       "      <td>Thursday</td>\n",
       "      <td>14</td>\n",
       "      <td>2:00pm-2:59pm</td>\n",
       "      <td>55</td>\n",
       "      <td>55</td>\n",
       "      <td>0</td>\n",
       "      <td>This section IS NOT on the NHS</td>\n",
       "      <td>3</td>\n",
       "      <td>State Highway</td>\n",
       "      <td>sr-76</td>\n",
       "      <td>us-280</td>\n",
       "      <td>1</td>\n",
       "      <td>Rural</td>\n",
       "      <td>4</td>\n",
       "      <td>Minor Arterial</td>\n",
       "      <td>1</td>\n",
       "      <td>State Highway Agency</td>\n",
       "      <td>49</td>\n",
       "      <td>49</td>\n",
       "      <td>33.299942</td>\n",
       "      <td>33.29994167</td>\n",
       "      <td>-86.369642</td>\n",
       "      <td>-86.36964167</td>\n",
       "      <td>0</td>\n",
       "      <td>No Special Jurisdiction</td>\n",
       "      <td>34</td>\n",
       "      <td>Ditch</td>\n",
       "      <td>0</td>\n",
       "      <td>The First Harmful Event was Not a Collision wi...</td>\n",
       "      <td>0</td>\n",
       "      <td>No</td>\n",
       "      <td>3</td>\n",
       "      <td>Intersection-Related</td>\n",
       "      <td>3</td>\n",
       "      <td>T-Intersection</td>\n",
       "      <td>0</td>\n",
       "      <td>None</td>\n",
       "      <td>4</td>\n",
       "      <td>On Roadside</td>\n",
       "      <td>1</td>\n",
       "      <td>Daylight</td>\n",
       "      <td>2</td>\n",
       "      <td>Rain</td>\n",
       "      <td>0</td>\n",
       "      <td>No</td>\n",
       "      <td>0000000</td>\n",
       "      <td>Not Applicable</td>\n",
       "      <td>14</td>\n",
       "      <td>2:00pm-2:59pm</td>\n",
       "      <td>58</td>\n",
       "      <td>58</td>\n",
       "      <td>15</td>\n",
       "      <td>3:00pm-3:59pm</td>\n",
       "      <td>15</td>\n",
       "      <td>15</td>\n",
       "      <td>99</td>\n",
       "      <td>Unknown</td>\n",
       "      <td>99</td>\n",
       "      <td>Unknown EMS Hospital Arrival Time</td>\n",
       "      <td>1</td>\n",
       "      <td>0</td>\n",
       "    </tr>\n",
       "    <tr>\n",
       "      <th>3</th>\n",
       "      <td>1</td>\n",
       "      <td>Alabama</td>\n",
       "      <td>10004</td>\n",
       "      <td>1</td>\n",
       "      <td>1</td>\n",
       "      <td>0</td>\n",
       "      <td>0</td>\n",
       "      <td>5</td>\n",
       "      <td>5</td>\n",
       "      <td>0</td>\n",
       "      <td>15</td>\n",
       "      <td>CALHOUN (15)</td>\n",
       "      <td>0</td>\n",
       "      <td>NOT APPLICABLE</td>\n",
       "      <td>3</td>\n",
       "      <td>3</td>\n",
       "      <td>1</td>\n",
       "      <td>January</td>\n",
       "      <td>2020</td>\n",
       "      <td>6</td>\n",
       "      <td>Friday</td>\n",
       "      <td>15</td>\n",
       "      <td>3:00pm-3:59pm</td>\n",
       "      <td>20</td>\n",
       "      <td>20</td>\n",
       "      <td>0</td>\n",
       "      <td>This section IS NOT on the NHS</td>\n",
       "      <td>4</td>\n",
       "      <td>County Road</td>\n",
       "      <td>CR-ALEXANDRIA WELLINGTON RD</td>\n",
       "      <td>NaN</td>\n",
       "      <td>1</td>\n",
       "      <td>Rural</td>\n",
       "      <td>7</td>\n",
       "      <td>Local</td>\n",
       "      <td>2</td>\n",
       "      <td>County Highway Agency</td>\n",
       "      <td>0</td>\n",
       "      <td>None</td>\n",
       "      <td>33.795072</td>\n",
       "      <td>33.79507222</td>\n",
       "      <td>-85.883486</td>\n",
       "      <td>-85.88348611</td>\n",
       "      <td>0</td>\n",
       "      <td>No Special Jurisdiction</td>\n",
       "      <td>42</td>\n",
       "      <td>Tree (Standing Only)</td>\n",
       "      <td>0</td>\n",
       "      <td>The First Harmful Event was Not a Collision wi...</td>\n",
       "      <td>0</td>\n",
       "      <td>No</td>\n",
       "      <td>1</td>\n",
       "      <td>Non-Junction</td>\n",
       "      <td>1</td>\n",
       "      <td>Not an Intersection</td>\n",
       "      <td>0</td>\n",
       "      <td>None</td>\n",
       "      <td>4</td>\n",
       "      <td>On Roadside</td>\n",
       "      <td>1</td>\n",
       "      <td>Daylight</td>\n",
       "      <td>10</td>\n",
       "      <td>Cloudy</td>\n",
       "      <td>0</td>\n",
       "      <td>No</td>\n",
       "      <td>0000000</td>\n",
       "      <td>Not Applicable</td>\n",
       "      <td>99</td>\n",
       "      <td>Unknown</td>\n",
       "      <td>99</td>\n",
       "      <td>Unknown</td>\n",
       "      <td>99</td>\n",
       "      <td>Unknown EMS Scene Arrival Hour</td>\n",
       "      <td>99</td>\n",
       "      <td>Unknown EMS Scene Arrival Minutes</td>\n",
       "      <td>99</td>\n",
       "      <td>Unknown</td>\n",
       "      <td>99</td>\n",
       "      <td>Unknown EMS Hospital Arrival Time</td>\n",
       "      <td>1</td>\n",
       "      <td>0</td>\n",
       "    </tr>\n",
       "    <tr>\n",
       "      <th>4</th>\n",
       "      <td>1</td>\n",
       "      <td>Alabama</td>\n",
       "      <td>10005</td>\n",
       "      <td>1</td>\n",
       "      <td>1</td>\n",
       "      <td>0</td>\n",
       "      <td>0</td>\n",
       "      <td>1</td>\n",
       "      <td>1</td>\n",
       "      <td>0</td>\n",
       "      <td>37</td>\n",
       "      <td>COOSA (37)</td>\n",
       "      <td>0</td>\n",
       "      <td>NOT APPLICABLE</td>\n",
       "      <td>4</td>\n",
       "      <td>4</td>\n",
       "      <td>1</td>\n",
       "      <td>January</td>\n",
       "      <td>2020</td>\n",
       "      <td>7</td>\n",
       "      <td>Saturday</td>\n",
       "      <td>0</td>\n",
       "      <td>0:00am-0:59am</td>\n",
       "      <td>45</td>\n",
       "      <td>45</td>\n",
       "      <td>0</td>\n",
       "      <td>This section IS NOT on the NHS</td>\n",
       "      <td>4</td>\n",
       "      <td>County Road</td>\n",
       "      <td>CR-63</td>\n",
       "      <td>NaN</td>\n",
       "      <td>1</td>\n",
       "      <td>Rural</td>\n",
       "      <td>5</td>\n",
       "      <td>Major Collector</td>\n",
       "      <td>2</td>\n",
       "      <td>County Highway Agency</td>\n",
       "      <td>0</td>\n",
       "      <td>None</td>\n",
       "      <td>32.848414</td>\n",
       "      <td>32.84841389</td>\n",
       "      <td>-86.083547</td>\n",
       "      <td>-86.08354722</td>\n",
       "      <td>0</td>\n",
       "      <td>No Special Jurisdiction</td>\n",
       "      <td>42</td>\n",
       "      <td>Tree (Standing Only)</td>\n",
       "      <td>0</td>\n",
       "      <td>The First Harmful Event was Not a Collision wi...</td>\n",
       "      <td>0</td>\n",
       "      <td>No</td>\n",
       "      <td>1</td>\n",
       "      <td>Non-Junction</td>\n",
       "      <td>1</td>\n",
       "      <td>Not an Intersection</td>\n",
       "      <td>0</td>\n",
       "      <td>None</td>\n",
       "      <td>4</td>\n",
       "      <td>On Roadside</td>\n",
       "      <td>2</td>\n",
       "      <td>Dark - Not Lighted</td>\n",
       "      <td>2</td>\n",
       "      <td>Rain</td>\n",
       "      <td>0</td>\n",
       "      <td>No</td>\n",
       "      <td>0000000</td>\n",
       "      <td>Not Applicable</td>\n",
       "      <td>0</td>\n",
       "      <td>0:00am-0:59am</td>\n",
       "      <td>45</td>\n",
       "      <td>45</td>\n",
       "      <td>0</td>\n",
       "      <td>0:00am-0:59am</td>\n",
       "      <td>55</td>\n",
       "      <td>55</td>\n",
       "      <td>88</td>\n",
       "      <td>Not Applicable (Not Transported)</td>\n",
       "      <td>88</td>\n",
       "      <td>Not Applicable (Not Transported)</td>\n",
       "      <td>1</td>\n",
       "      <td>0</td>\n",
       "    </tr>\n",
       "  </tbody>\n",
       "</table>\n",
       "</div>"
      ],
      "text/plain": [
       "   STATE STATENAME  ST_CASE  VE_TOTAL  VE_FORMS  PVH_INVL  PEDS  PERSONS  \\\n",
       "0      1   Alabama    10001         1         1         0     0        4   \n",
       "1      1   Alabama    10002         4         4         0     0        6   \n",
       "2      1   Alabama    10003         2         2         0     0        2   \n",
       "3      1   Alabama    10004         1         1         0     0        5   \n",
       "4      1   Alabama    10005         1         1         0     0        1   \n",
       "\n",
       "   PERMVIT  PERNOTMVIT  COUNTY      COUNTYNAME  CITY        CITYNAME  DAY  \\\n",
       "0        4           0      51     ELMORE (51)     0  NOT APPLICABLE    1   \n",
       "1        6           0      73  JEFFERSON (73)   350      BIRMINGHAM    2   \n",
       "2        2           0     117    SHELBY (117)     0  NOT APPLICABLE    2   \n",
       "3        5           0      15    CALHOUN (15)     0  NOT APPLICABLE    3   \n",
       "4        1           0      37      COOSA (37)     0  NOT APPLICABLE    4   \n",
       "\n",
       "   DAYNAME  MONTH MONTHNAME  YEAR  DAY_WEEK DAY_WEEKNAME  HOUR       HOURNAME  \\\n",
       "0        1      1   January  2020         4    Wednesday     2  2:00am-2:59am   \n",
       "1        2      1   January  2020         5     Thursday    17  5:00pm-5:59pm   \n",
       "2        2      1   January  2020         5     Thursday    14  2:00pm-2:59pm   \n",
       "3        3      1   January  2020         6       Friday    15  3:00pm-3:59pm   \n",
       "4        4      1   January  2020         7     Saturday     0  0:00am-0:59am   \n",
       "\n",
       "   MINUTE MINUTENAME  NHS                         NHSNAME  ROUTE  \\\n",
       "0      58         58    0  This section IS NOT on the NHS      4   \n",
       "1      18         18    0  This section IS NOT on the NHS      6   \n",
       "2      55         55    0  This section IS NOT on the NHS      3   \n",
       "3      20         20    0  This section IS NOT on the NHS      4   \n",
       "4      45         45    0  This section IS NOT on the NHS      4   \n",
       "\n",
       "                     ROUTENAME                      TWAY_ID TWAY_ID2  RUR_URB  \\\n",
       "0                  County Road                         cr-4      NaN        1   \n",
       "1  Local Street - Municipality     martin luther king jr dr      NaN        2   \n",
       "2                State Highway                        sr-76   us-280        1   \n",
       "3                  County Road  CR-ALEXANDRIA WELLINGTON RD      NaN        1   \n",
       "4                  County Road                        CR-63      NaN        1   \n",
       "\n",
       "  RUR_URBNAME  FUNC_SYS     FUNC_SYSNAME  RD_OWNER  \\\n",
       "0       Rural         5  Major Collector         2   \n",
       "1       Urban         4   Minor Arterial         4   \n",
       "2       Rural         4   Minor Arterial         1   \n",
       "3       Rural         7            Local         2   \n",
       "4       Rural         5  Major Collector         2   \n",
       "\n",
       "                       RD_OWNERNAME  MILEPT MILEPTNAME   LATITUDE  \\\n",
       "0             County Highway Agency       0       None  32.433133   \n",
       "1  City or Municipal Highway Agency       0       None  33.484658   \n",
       "2              State Highway Agency      49         49  33.299942   \n",
       "3             County Highway Agency       0       None  33.795072   \n",
       "4             County Highway Agency       0       None  32.848414   \n",
       "\n",
       "  LATITUDENAME   LONGITUD  LONGITUDNAME  SP_JUR               SP_JURNAME  \\\n",
       "0  32.43313333 -86.094850     -86.09485       0  No Special Jurisdiction   \n",
       "1  33.48465833 -86.839544  -86.83954444       0  No Special Jurisdiction   \n",
       "2  33.29994167 -86.369642  -86.36964167       0  No Special Jurisdiction   \n",
       "3  33.79507222 -85.883486  -85.88348611       0  No Special Jurisdiction   \n",
       "4  32.84841389 -86.083547  -86.08354722       0  No Special Jurisdiction   \n",
       "\n",
       "   HARM_EV                 HARM_EVNAME  MAN_COLL  \\\n",
       "0       42        Tree (Standing Only)         0   \n",
       "1       12  Motor Vehicle In-Transport         6   \n",
       "2       34                       Ditch         0   \n",
       "3       42        Tree (Standing Only)         0   \n",
       "4       42        Tree (Standing Only)         0   \n",
       "\n",
       "                                        MAN_COLLNAME  RELJCT1 RELJCT1NAME  \\\n",
       "0  The First Harmful Event was Not a Collision wi...        0          No   \n",
       "1                                              Angle        0          No   \n",
       "2  The First Harmful Event was Not a Collision wi...        0          No   \n",
       "3  The First Harmful Event was Not a Collision wi...        0          No   \n",
       "4  The First Harmful Event was Not a Collision wi...        0          No   \n",
       "\n",
       "   RELJCT2           RELJCT2NAME  TYP_INT          TYP_INTNAME  WRK_ZONE  \\\n",
       "0        1          Non-Junction        1  Not an Intersection         0   \n",
       "1        1          Non-Junction        1  Not an Intersection         0   \n",
       "2        3  Intersection-Related        3       T-Intersection         0   \n",
       "3        1          Non-Junction        1  Not an Intersection         0   \n",
       "4        1          Non-Junction        1  Not an Intersection         0   \n",
       "\n",
       "  WRK_ZONENAME  REL_ROAD REL_ROADNAME  LGT_COND        LGT_CONDNAME  WEATHER  \\\n",
       "0         None         4  On Roadside         2  Dark - Not Lighted        1   \n",
       "1         None         1   On Roadway         3      Dark - Lighted        2   \n",
       "2         None         4  On Roadside         1            Daylight        2   \n",
       "3         None         4  On Roadside         1            Daylight       10   \n",
       "4         None         4  On Roadside         2  Dark - Not Lighted        2   \n",
       "\n",
       "  WEATHERNAME  SCH_BUS SCH_BUSNAME     RAIL        RAILNAME  NOT_HOUR  \\\n",
       "0       Clear        0          No  0000000  Not Applicable        99   \n",
       "1        Rain        0          No  0000000  Not Applicable        17   \n",
       "2        Rain        0          No  0000000  Not Applicable        14   \n",
       "3      Cloudy        0          No  0000000  Not Applicable        99   \n",
       "4        Rain        0          No  0000000  Not Applicable         0   \n",
       "\n",
       "    NOT_HOURNAME  NOT_MIN NOT_MINNAME  ARR_HOUR  \\\n",
       "0        Unknown       99     Unknown         3   \n",
       "1  5:00pm-5:59pm       18          18        17   \n",
       "2  2:00pm-2:59pm       58          58        15   \n",
       "3        Unknown       99     Unknown        99   \n",
       "4  0:00am-0:59am       45          45         0   \n",
       "\n",
       "                     ARR_HOURNAME  ARR_MIN                        ARR_MINNAME  \\\n",
       "0                   3:00am-3:59am       10                                 10   \n",
       "1                   5:00pm-5:59pm       26                                 26   \n",
       "2                   3:00pm-3:59pm       15                                 15   \n",
       "3  Unknown EMS Scene Arrival Hour       99  Unknown EMS Scene Arrival Minutes   \n",
       "4                   0:00am-0:59am       55                                 55   \n",
       "\n",
       "   HOSP_HR                       HOSP_HRNAME  HOSP_MN  \\\n",
       "0       99                           Unknown       99   \n",
       "1       99                           Unknown       99   \n",
       "2       99                           Unknown       99   \n",
       "3       99                           Unknown       99   \n",
       "4       88  Not Applicable (Not Transported)       88   \n",
       "\n",
       "                         HOSP_MNNAME  FATALS  DRUNK_DR  \n",
       "0  Unknown EMS Hospital Arrival Time       3         1  \n",
       "1  Unknown EMS Hospital Arrival Time       1         0  \n",
       "2  Unknown EMS Hospital Arrival Time       1         0  \n",
       "3  Unknown EMS Hospital Arrival Time       1         0  \n",
       "4   Not Applicable (Not Transported)       1         0  "
      ]
     },
     "execution_count": 76,
     "metadata": {},
     "output_type": "execute_result"
    }
   ],
   "source": [
    "pd.set_option('display.max_columns', None)\n",
    "\n",
    "df = pd.read_csv('accident.csv',delimiter=',', na_values=['NA'],encoding=\"ISO-8859-1\")\n",
    "\n",
    "#Es mostren els registres de la part superior\n",
    "df.head()"
   ]
  },
  {
   "cell_type": "code",
   "execution_count": 49,
   "metadata": {},
   "outputs": [
    {
     "name": "stdout",
     "output_type": "stream",
     "text": [
      "El dataset te 81 variables\n"
     ]
    }
   ],
   "source": [
    "#Es mostren la cuantitat de variables del dataset\n",
    "\n",
    "nombre_atributs = len (df.columns)\n",
    "\n",
    "print(\"El dataset te \"+ str(nombre_atributs) + \" variables\")"
   ]
  },
  {
   "cell_type": "markdown",
   "metadata": {},
   "source": [
    "Aquí tenim una explicació de cada variable\n",
    "\n",
    "\n",
    "\n",
    "+ **ST_CASE**  identificador d'accident\n",
    "\n",
    "**FETS A ESTUDIAR**\n",
    "\n",
    "+ **FATALS** morts \n",
    "+ **DRUNK_DR** conductors beguts\n",
    "+ **VE_TOTAL** nombre de vehicles implicats en total \n",
    "+ **VE_FORMS** nombre de vehicles en moviment implicats\n",
    "+ **PVH_INVL** nombre de vehicles estacionats implicats\n",
    "+ **PEDS**     nombre de vianants implicats\n",
    "+ **PERSONS**  nombre d'ocupant de vehicle implicats\n",
    "+ **PERMVIT**  nombre conductors i ocupants implicats\n",
    "+ **PERNOTMVIT** nombre vianants, ciclistes, a cavall... qualsevol cosa menys vehicle motoritzat\n",
    "\n",
    "**DIMENSIÓ GEOGRÀFICA**\n",
    "\n",
    "+ **STATE** codificació d'estat\n",
    "+ **STATENAME** nom d'estat\n",
    "+ **COUNTY** identificador de contat\n",
    "+ **COUNTYNAME** comtat\n",
    "+ **CITY** identificador de ciutat\n",
    "+ **CITYNAME** ciutat\n",
    "+ **NHS** 1 ha passat a autopista del NHS 0 no\n",
    "+ **NHSNAME** TBD\n",
    "+ **ROUTE**  identificador de ruta\n",
    "+ **ROUTENAME** ruta\n",
    "+ **TWAY_ID** via de transit (1982) \n",
    "+ **TWAY_ID2** via de transit (2004)\n",
    "+ **RUR_URB** identificador de segment rural o urbà\n",
    "+ **RUR_URBNAME** segment rural o urbà\n",
    "+ **FUNC_SYS** classificació funcional segment\n",
    "+ **FUNC_SYSNAME** TBD\n",
    "+ **RD_OWNER** identificador propietari del segment     \n",
    "+ **RD_OWNERNAME** propietari del segment \n",
    "+ **MILEPT** milla int\n",
    "+ **MILEPTNAME** milla chr\n",
    "+ **LATITUDE** latitud int    \n",
    "+ **LATITUDENAME** latitud chr\n",
    "+ **LONGITUD** longitud int\n",
    "+ **LONGITUDNAME** longitud chr\n",
    "+ **SP_JUR** codi jurisdicció\n",
    "+ **SP_JURNAME** jurisdicció\n",
    "\n",
    "**DIMENSIÓ TEMPORAL**\n",
    "\n",
    "+ **DAY** dia         \n",
    "+ **DAYNAME** dia repetit\n",
    "+ **MONTH** mes    \n",
    "+ **MONTHNAME** nom de mes\n",
    "+ **YEAR** any\n",
    "+ **DAY_WEEK** dia de la setmana    \n",
    "+ **DAY_WEEKNAME** nom de dia de la setmana\n",
    "+ **HOUR** hora\n",
    "+ **HOURNAME** franja hora\n",
    "+ **MINUTE** minut int\n",
    "+ **MINUTENAME** minut chr\n",
    "\n",
    "**DIMENSIÓ CONDCICIONS ACCIDENT**\n",
    "\n",
    "+ **HARM_EV** codi primer esdeveniment de l'accident que produeixi danys o lesions\n",
    "+ **HARM_EVNAME** primer esdeveniment de l'accident que produeixi danys o lesions\n",
    "+ **MAN_COLL** codi de posició dels vehicles \n",
    "+ **MAN_COLLNAME** posició dels vehicles\n",
    "+ **RELJCT1** codi si hi ha àrea d'intercanvi\n",
    "+ **RELJCT1NAME**  si hi ha àrea d'intercanvi\n",
    "+ **RELJCT2** codi proximitat encreuament\n",
    "+ **RELJCT2NAME** proximitat encreuament\n",
    "+ **TYP_INT** codi tipus d'intersecció\n",
    "+ **TYP_INTNAME** tipus d'intersecció\n",
    "+ **WRK_ZONE** codi tipologia d'obres     \n",
    "+ **WRK_ZONENAME** tipologia d'obres\n",
    "+ **REL_ROAD**     codi ubicació vehicle a la via\n",
    "+ **REL_ROADNAME** ubicació vehicle a la via\n",
    "+ **LGT_COND**     codi condició lumínica\n",
    "+ **LGT_CONDNAME** condició lumínica\n",
    "\n",
    "**DIMENSIÓ METEREOLOGIA**\n",
    "\n",
    "+ **WEATHER**     codi temps\n",
    "+ **WEATHERNAME** : temps\n",
    "\n",
    "**ALTRES**\n",
    "\n",
    "+ **SCH_BUS** codi si vehicle escolar implicat\n",
    "+ **SCH_BUSNAME** vehicle escolar implicat\n",
    "+ **RAIL** codi si dins o a prop pas ferroviari\n",
    "+ **RAILNAME**  si dins o a prop pas ferroviari\n",
    "\n",
    "**DIMENSIÓ SERVEI EMERGENCIES**\n",
    "\n",
    "+ **NOT_HOUR** hora notificació a emergències int\n",
    "+ **NOT_HOURNAME** hora notificació a emergències franja \n",
    "+ **NOT_MIN** minut notificació a emergències int\n",
    "+ **NOT_MINNAME** minut notificació a emergències chr\n",
    "+ **ARR_HOUR** hora arribada emergències int\n",
    "+ **ARR_HOURNAME** hora arribada emergències franja\n",
    "+ **ARR_MIN** minut arribada emergències int\n",
    "+ **ARR_MINNAME** minut arribada emergències franja \n",
    "+ **HOSP_HR** hora arribada hospital int\n",
    "+ **HOSP_HRNAME** hora arribada hospital franja\n",
    "+ **HOSP_MN** minut arribada hospital int\n",
    "+ **HOSP_MNNAME** : minut arribada hospital franja\n"
   ]
  },
  {
   "cell_type": "code",
   "execution_count": 50,
   "metadata": {},
   "outputs": [
    {
     "name": "stdout",
     "output_type": "stream",
     "text": [
      "STATE\n",
      "STATENAME\n",
      "ST_CASE\n",
      "VE_TOTAL\n",
      "VE_FORMS\n",
      "PVH_INVL\n",
      "PEDS\n",
      "PERSONS\n",
      "PERMVIT\n",
      "PERNOTMVIT\n",
      "COUNTY\n",
      "COUNTYNAME\n",
      "CITY\n",
      "CITYNAME\n",
      "DAY\n",
      "DAYNAME\n",
      "MONTH\n",
      "MONTHNAME\n",
      "YEAR\n",
      "DAY_WEEK\n",
      "DAY_WEEKNAME\n",
      "HOUR\n",
      "HOURNAME\n",
      "MINUTE\n",
      "MINUTENAME\n",
      "NHS\n",
      "NHSNAME\n",
      "ROUTE\n",
      "ROUTENAME\n",
      "TWAY_ID\n",
      "TWAY_ID2\n",
      "RUR_URB\n",
      "RUR_URBNAME\n",
      "FUNC_SYS\n",
      "FUNC_SYSNAME\n",
      "RD_OWNER\n",
      "RD_OWNERNAME\n",
      "MILEPT\n",
      "MILEPTNAME\n",
      "LATITUDE\n",
      "LATITUDENAME\n",
      "LONGITUD\n",
      "LONGITUDNAME\n",
      "SP_JUR\n",
      "SP_JURNAME\n",
      "HARM_EV\n",
      "HARM_EVNAME\n",
      "MAN_COLL\n",
      "MAN_COLLNAME\n",
      "RELJCT1\n",
      "RELJCT1NAME\n",
      "RELJCT2\n",
      "RELJCT2NAME\n",
      "TYP_INT\n",
      "TYP_INTNAME\n",
      "WRK_ZONE\n",
      "WRK_ZONENAME\n",
      "REL_ROAD\n",
      "REL_ROADNAME\n",
      "LGT_COND\n",
      "LGT_CONDNAME\n",
      "WEATHER\n",
      "WEATHERNAME\n",
      "SCH_BUS\n",
      "SCH_BUSNAME\n",
      "RAIL\n",
      "RAILNAME\n",
      "NOT_HOUR\n",
      "NOT_HOURNAME\n",
      "NOT_MIN\n",
      "NOT_MINNAME\n",
      "ARR_HOUR\n",
      "ARR_HOURNAME\n",
      "ARR_MIN\n",
      "ARR_MINNAME\n",
      "HOSP_HR\n",
      "HOSP_HRNAME\n",
      "HOSP_MN\n",
      "HOSP_MNNAME\n",
      "FATALS\n",
      "DRUNK_DR\n"
     ]
    }
   ],
   "source": [
    "#Es mostren per pantalla el nom dels atributs\n",
    "\n",
    "for col in df.columns:\n",
    "    print(col)"
   ]
  },
  {
   "cell_type": "markdown",
   "metadata": {},
   "source": []
  },
  {
   "cell_type": "code",
   "execution_count": 51,
   "metadata": {},
   "outputs": [
    {
     "name": "stdout",
     "output_type": "stream",
     "text": [
      "Tenim un total de 35766 registres\n"
     ]
    }
   ],
   "source": [
    "#Es calculen el nombre de registres del data set\n",
    "\n",
    "volumetria = len(df)\n",
    "\n",
    "print(\"Tenim un total de \" + str(volumetria) + \" registres\")"
   ]
  },
  {
   "cell_type": "markdown",
   "metadata": {},
   "source": [
    "En aquesta fase farem un analisis estadístic bàsic de les dades"
   ]
  },
  {
   "cell_type": "code",
   "execution_count": 52,
   "metadata": {},
   "outputs": [
    {
     "data": {
      "text/html": [
       "<div>\n",
       "<style scoped>\n",
       "    .dataframe tbody tr th:only-of-type {\n",
       "        vertical-align: middle;\n",
       "    }\n",
       "\n",
       "    .dataframe tbody tr th {\n",
       "        vertical-align: top;\n",
       "    }\n",
       "\n",
       "    .dataframe thead th {\n",
       "        text-align: right;\n",
       "    }\n",
       "</style>\n",
       "<table border=\"1\" class=\"dataframe\">\n",
       "  <thead>\n",
       "    <tr style=\"text-align: right;\">\n",
       "      <th></th>\n",
       "      <th>STATE</th>\n",
       "      <th>ST_CASE</th>\n",
       "      <th>VE_TOTAL</th>\n",
       "      <th>VE_FORMS</th>\n",
       "      <th>PVH_INVL</th>\n",
       "      <th>PEDS</th>\n",
       "      <th>PERSONS</th>\n",
       "      <th>PERMVIT</th>\n",
       "      <th>PERNOTMVIT</th>\n",
       "      <th>COUNTY</th>\n",
       "      <th>CITY</th>\n",
       "      <th>DAY</th>\n",
       "      <th>DAYNAME</th>\n",
       "      <th>MONTH</th>\n",
       "      <th>YEAR</th>\n",
       "      <th>DAY_WEEK</th>\n",
       "      <th>HOUR</th>\n",
       "      <th>MINUTE</th>\n",
       "      <th>NHS</th>\n",
       "      <th>ROUTE</th>\n",
       "      <th>RUR_URB</th>\n",
       "      <th>FUNC_SYS</th>\n",
       "      <th>RD_OWNER</th>\n",
       "      <th>MILEPT</th>\n",
       "      <th>LATITUDE</th>\n",
       "      <th>LONGITUD</th>\n",
       "      <th>SP_JUR</th>\n",
       "      <th>HARM_EV</th>\n",
       "      <th>MAN_COLL</th>\n",
       "      <th>RELJCT1</th>\n",
       "      <th>RELJCT2</th>\n",
       "      <th>TYP_INT</th>\n",
       "      <th>WRK_ZONE</th>\n",
       "      <th>REL_ROAD</th>\n",
       "      <th>LGT_COND</th>\n",
       "      <th>WEATHER</th>\n",
       "      <th>SCH_BUS</th>\n",
       "      <th>NOT_HOUR</th>\n",
       "      <th>NOT_MIN</th>\n",
       "      <th>ARR_HOUR</th>\n",
       "      <th>ARR_MIN</th>\n",
       "      <th>HOSP_HR</th>\n",
       "      <th>HOSP_MN</th>\n",
       "      <th>FATALS</th>\n",
       "      <th>DRUNK_DR</th>\n",
       "    </tr>\n",
       "  </thead>\n",
       "  <tbody>\n",
       "    <tr>\n",
       "      <th>count</th>\n",
       "      <td>35766.000000</td>\n",
       "      <td>35766.000000</td>\n",
       "      <td>35766.000000</td>\n",
       "      <td>35766.000000</td>\n",
       "      <td>35766.000000</td>\n",
       "      <td>35766.000000</td>\n",
       "      <td>35766.000000</td>\n",
       "      <td>35766.000000</td>\n",
       "      <td>35766.000000</td>\n",
       "      <td>35766.000000</td>\n",
       "      <td>35766.000000</td>\n",
       "      <td>35766.000000</td>\n",
       "      <td>35766.000000</td>\n",
       "      <td>35766.000000</td>\n",
       "      <td>35766.0</td>\n",
       "      <td>35766.000000</td>\n",
       "      <td>35766.000000</td>\n",
       "      <td>35766.000000</td>\n",
       "      <td>35766.000000</td>\n",
       "      <td>35766.000000</td>\n",
       "      <td>35766.000000</td>\n",
       "      <td>35766.000000</td>\n",
       "      <td>35766.000000</td>\n",
       "      <td>35766.000000</td>\n",
       "      <td>35766.000000</td>\n",
       "      <td>35766.000000</td>\n",
       "      <td>35766.000000</td>\n",
       "      <td>35766.000000</td>\n",
       "      <td>35766.000000</td>\n",
       "      <td>35766.000000</td>\n",
       "      <td>35766.000000</td>\n",
       "      <td>35766.000000</td>\n",
       "      <td>35766.000000</td>\n",
       "      <td>35766.000000</td>\n",
       "      <td>35766.000000</td>\n",
       "      <td>35766.000000</td>\n",
       "      <td>35766.000000</td>\n",
       "      <td>35766.000000</td>\n",
       "      <td>35766.000000</td>\n",
       "      <td>35766.000000</td>\n",
       "      <td>35766.000000</td>\n",
       "      <td>35766.000000</td>\n",
       "      <td>35766.000000</td>\n",
       "      <td>35766.000000</td>\n",
       "      <td>35766.000000</td>\n",
       "    </tr>\n",
       "    <tr>\n",
       "      <th>mean</th>\n",
       "      <td>27.158307</td>\n",
       "      <td>272387.092937</td>\n",
       "      <td>1.560113</td>\n",
       "      <td>1.517419</td>\n",
       "      <td>0.042694</td>\n",
       "      <td>0.228485</td>\n",
       "      <td>2.172818</td>\n",
       "      <td>2.162585</td>\n",
       "      <td>0.238718</td>\n",
       "      <td>93.060421</td>\n",
       "      <td>1435.924509</td>\n",
       "      <td>15.705139</td>\n",
       "      <td>15.705139</td>\n",
       "      <td>6.898283</td>\n",
       "      <td>2020.0</td>\n",
       "      <td>4.113935</td>\n",
       "      <td>13.939579</td>\n",
       "      <td>29.241123</td>\n",
       "      <td>0.587653</td>\n",
       "      <td>3.901079</td>\n",
       "      <td>1.662025</td>\n",
       "      <td>6.038193</td>\n",
       "      <td>19.957166</td>\n",
       "      <td>19990.653582</td>\n",
       "      <td>36.897863</td>\n",
       "      <td>-84.585258</td>\n",
       "      <td>0.040290</td>\n",
       "      <td>18.311357</td>\n",
       "      <td>1.928927</td>\n",
       "      <td>0.072835</td>\n",
       "      <td>2.368339</td>\n",
       "      <td>1.763994</td>\n",
       "      <td>0.047475</td>\n",
       "      <td>2.557177</td>\n",
       "      <td>1.961052</td>\n",
       "      <td>9.724683</td>\n",
       "      <td>0.001426</td>\n",
       "      <td>61.393642</td>\n",
       "      <td>68.456439</td>\n",
       "      <td>61.884387</td>\n",
       "      <td>68.736901</td>\n",
       "      <td>77.587765</td>\n",
       "      <td>80.760583</td>\n",
       "      <td>1.085500</td>\n",
       "      <td>0.266426</td>\n",
       "    </tr>\n",
       "    <tr>\n",
       "      <th>std</th>\n",
       "      <td>16.354713</td>\n",
       "      <td>163438.330390</td>\n",
       "      <td>0.782449</td>\n",
       "      <td>0.736814</td>\n",
       "      <td>0.292877</td>\n",
       "      <td>0.470604</td>\n",
       "      <td>1.593437</td>\n",
       "      <td>1.589051</td>\n",
       "      <td>0.494223</td>\n",
       "      <td>98.691960</td>\n",
       "      <td>2294.504153</td>\n",
       "      <td>8.820912</td>\n",
       "      <td>8.820912</td>\n",
       "      <td>3.328276</td>\n",
       "      <td>0.0</td>\n",
       "      <td>2.078864</td>\n",
       "      <td>10.571409</td>\n",
       "      <td>18.540796</td>\n",
       "      <td>1.281194</td>\n",
       "      <td>2.291921</td>\n",
       "      <td>0.894967</td>\n",
       "      <td>14.282173</td>\n",
       "      <td>37.642541</td>\n",
       "      <td>39772.335330</td>\n",
       "      <td>7.195520</td>\n",
       "      <td>91.134102</td>\n",
       "      <td>0.514434</td>\n",
       "      <td>14.440480</td>\n",
       "      <td>6.235890</td>\n",
       "      <td>0.486222</td>\n",
       "      <td>6.408350</td>\n",
       "      <td>6.306104</td>\n",
       "      <td>0.381429</td>\n",
       "      <td>6.160332</td>\n",
       "      <td>1.222222</td>\n",
       "      <td>25.543251</td>\n",
       "      <td>0.037735</td>\n",
       "      <td>42.613391</td>\n",
       "      <td>36.188582</td>\n",
       "      <td>42.549598</td>\n",
       "      <td>36.144762</td>\n",
       "      <td>32.738110</td>\n",
       "      <td>27.561744</td>\n",
       "      <td>0.342381</td>\n",
       "      <td>0.459707</td>\n",
       "    </tr>\n",
       "    <tr>\n",
       "      <th>min</th>\n",
       "      <td>1.000000</td>\n",
       "      <td>10001.000000</td>\n",
       "      <td>1.000000</td>\n",
       "      <td>1.000000</td>\n",
       "      <td>0.000000</td>\n",
       "      <td>0.000000</td>\n",
       "      <td>0.000000</td>\n",
       "      <td>0.000000</td>\n",
       "      <td>0.000000</td>\n",
       "      <td>1.000000</td>\n",
       "      <td>0.000000</td>\n",
       "      <td>1.000000</td>\n",
       "      <td>1.000000</td>\n",
       "      <td>1.000000</td>\n",
       "      <td>2020.0</td>\n",
       "      <td>1.000000</td>\n",
       "      <td>0.000000</td>\n",
       "      <td>0.000000</td>\n",
       "      <td>0.000000</td>\n",
       "      <td>1.000000</td>\n",
       "      <td>1.000000</td>\n",
       "      <td>1.000000</td>\n",
       "      <td>1.000000</td>\n",
       "      <td>0.000000</td>\n",
       "      <td>19.091031</td>\n",
       "      <td>-165.304603</td>\n",
       "      <td>0.000000</td>\n",
       "      <td>1.000000</td>\n",
       "      <td>0.000000</td>\n",
       "      <td>0.000000</td>\n",
       "      <td>1.000000</td>\n",
       "      <td>1.000000</td>\n",
       "      <td>0.000000</td>\n",
       "      <td>1.000000</td>\n",
       "      <td>1.000000</td>\n",
       "      <td>1.000000</td>\n",
       "      <td>0.000000</td>\n",
       "      <td>0.000000</td>\n",
       "      <td>0.000000</td>\n",
       "      <td>0.000000</td>\n",
       "      <td>0.000000</td>\n",
       "      <td>0.000000</td>\n",
       "      <td>0.000000</td>\n",
       "      <td>1.000000</td>\n",
       "      <td>0.000000</td>\n",
       "    </tr>\n",
       "    <tr>\n",
       "      <th>25%</th>\n",
       "      <td>12.000000</td>\n",
       "      <td>122077.500000</td>\n",
       "      <td>1.000000</td>\n",
       "      <td>1.000000</td>\n",
       "      <td>0.000000</td>\n",
       "      <td>0.000000</td>\n",
       "      <td>1.000000</td>\n",
       "      <td>1.000000</td>\n",
       "      <td>0.000000</td>\n",
       "      <td>31.000000</td>\n",
       "      <td>0.000000</td>\n",
       "      <td>8.000000</td>\n",
       "      <td>8.000000</td>\n",
       "      <td>4.000000</td>\n",
       "      <td>2020.0</td>\n",
       "      <td>2.000000</td>\n",
       "      <td>7.000000</td>\n",
       "      <td>14.000000</td>\n",
       "      <td>0.000000</td>\n",
       "      <td>2.000000</td>\n",
       "      <td>1.000000</td>\n",
       "      <td>3.000000</td>\n",
       "      <td>1.000000</td>\n",
       "      <td>2.000000</td>\n",
       "      <td>32.992904</td>\n",
       "      <td>-97.895707</td>\n",
       "      <td>0.000000</td>\n",
       "      <td>8.000000</td>\n",
       "      <td>0.000000</td>\n",
       "      <td>0.000000</td>\n",
       "      <td>1.000000</td>\n",
       "      <td>1.000000</td>\n",
       "      <td>0.000000</td>\n",
       "      <td>1.000000</td>\n",
       "      <td>1.000000</td>\n",
       "      <td>1.000000</td>\n",
       "      <td>0.000000</td>\n",
       "      <td>16.000000</td>\n",
       "      <td>34.000000</td>\n",
       "      <td>16.000000</td>\n",
       "      <td>34.000000</td>\n",
       "      <td>88.000000</td>\n",
       "      <td>88.000000</td>\n",
       "      <td>1.000000</td>\n",
       "      <td>0.000000</td>\n",
       "    </tr>\n",
       "    <tr>\n",
       "      <th>50%</th>\n",
       "      <td>26.000000</td>\n",
       "      <td>260916.500000</td>\n",
       "      <td>1.000000</td>\n",
       "      <td>1.000000</td>\n",
       "      <td>0.000000</td>\n",
       "      <td>0.000000</td>\n",
       "      <td>2.000000</td>\n",
       "      <td>2.000000</td>\n",
       "      <td>0.000000</td>\n",
       "      <td>71.000000</td>\n",
       "      <td>120.000000</td>\n",
       "      <td>16.000000</td>\n",
       "      <td>16.000000</td>\n",
       "      <td>7.000000</td>\n",
       "      <td>2020.0</td>\n",
       "      <td>4.000000</td>\n",
       "      <td>15.000000</td>\n",
       "      <td>30.000000</td>\n",
       "      <td>0.000000</td>\n",
       "      <td>3.000000</td>\n",
       "      <td>2.000000</td>\n",
       "      <td>4.000000</td>\n",
       "      <td>1.000000</td>\n",
       "      <td>80.000000</td>\n",
       "      <td>36.167465</td>\n",
       "      <td>-87.807928</td>\n",
       "      <td>0.000000</td>\n",
       "      <td>12.000000</td>\n",
       "      <td>0.000000</td>\n",
       "      <td>0.000000</td>\n",
       "      <td>1.000000</td>\n",
       "      <td>1.000000</td>\n",
       "      <td>0.000000</td>\n",
       "      <td>1.000000</td>\n",
       "      <td>2.000000</td>\n",
       "      <td>1.000000</td>\n",
       "      <td>0.000000</td>\n",
       "      <td>99.000000</td>\n",
       "      <td>98.000000</td>\n",
       "      <td>99.000000</td>\n",
       "      <td>98.000000</td>\n",
       "      <td>88.000000</td>\n",
       "      <td>88.000000</td>\n",
       "      <td>1.000000</td>\n",
       "      <td>0.000000</td>\n",
       "    </tr>\n",
       "    <tr>\n",
       "      <th>75%</th>\n",
       "      <td>42.000000</td>\n",
       "      <td>420476.750000</td>\n",
       "      <td>2.000000</td>\n",
       "      <td>2.000000</td>\n",
       "      <td>0.000000</td>\n",
       "      <td>0.000000</td>\n",
       "      <td>3.000000</td>\n",
       "      <td>3.000000</td>\n",
       "      <td>0.000000</td>\n",
       "      <td>117.000000</td>\n",
       "      <td>2080.000000</td>\n",
       "      <td>23.000000</td>\n",
       "      <td>23.000000</td>\n",
       "      <td>10.000000</td>\n",
       "      <td>2020.0</td>\n",
       "      <td>6.000000</td>\n",
       "      <td>19.000000</td>\n",
       "      <td>45.000000</td>\n",
       "      <td>1.000000</td>\n",
       "      <td>6.000000</td>\n",
       "      <td>2.000000</td>\n",
       "      <td>5.000000</td>\n",
       "      <td>4.000000</td>\n",
       "      <td>955.500000</td>\n",
       "      <td>40.448067</td>\n",
       "      <td>-81.522910</td>\n",
       "      <td>0.000000</td>\n",
       "      <td>30.000000</td>\n",
       "      <td>2.000000</td>\n",
       "      <td>0.000000</td>\n",
       "      <td>2.000000</td>\n",
       "      <td>1.000000</td>\n",
       "      <td>0.000000</td>\n",
       "      <td>4.000000</td>\n",
       "      <td>3.000000</td>\n",
       "      <td>2.000000</td>\n",
       "      <td>0.000000</td>\n",
       "      <td>99.000000</td>\n",
       "      <td>99.000000</td>\n",
       "      <td>99.000000</td>\n",
       "      <td>99.000000</td>\n",
       "      <td>99.000000</td>\n",
       "      <td>99.000000</td>\n",
       "      <td>1.000000</td>\n",
       "      <td>1.000000</td>\n",
       "    </tr>\n",
       "    <tr>\n",
       "      <th>max</th>\n",
       "      <td>56.000000</td>\n",
       "      <td>560115.000000</td>\n",
       "      <td>15.000000</td>\n",
       "      <td>15.000000</td>\n",
       "      <td>10.000000</td>\n",
       "      <td>8.000000</td>\n",
       "      <td>61.000000</td>\n",
       "      <td>61.000000</td>\n",
       "      <td>9.000000</td>\n",
       "      <td>999.000000</td>\n",
       "      <td>9999.000000</td>\n",
       "      <td>31.000000</td>\n",
       "      <td>31.000000</td>\n",
       "      <td>12.000000</td>\n",
       "      <td>2020.0</td>\n",
       "      <td>7.000000</td>\n",
       "      <td>99.000000</td>\n",
       "      <td>99.000000</td>\n",
       "      <td>9.000000</td>\n",
       "      <td>9.000000</td>\n",
       "      <td>9.000000</td>\n",
       "      <td>99.000000</td>\n",
       "      <td>99.000000</td>\n",
       "      <td>99999.000000</td>\n",
       "      <td>99.999900</td>\n",
       "      <td>999.999900</td>\n",
       "      <td>9.000000</td>\n",
       "      <td>99.000000</td>\n",
       "      <td>99.000000</td>\n",
       "      <td>9.000000</td>\n",
       "      <td>99.000000</td>\n",
       "      <td>99.000000</td>\n",
       "      <td>4.000000</td>\n",
       "      <td>99.000000</td>\n",
       "      <td>9.000000</td>\n",
       "      <td>99.000000</td>\n",
       "      <td>1.000000</td>\n",
       "      <td>99.000000</td>\n",
       "      <td>99.000000</td>\n",
       "      <td>99.000000</td>\n",
       "      <td>99.000000</td>\n",
       "      <td>99.000000</td>\n",
       "      <td>99.000000</td>\n",
       "      <td>8.000000</td>\n",
       "      <td>4.000000</td>\n",
       "    </tr>\n",
       "  </tbody>\n",
       "</table>\n",
       "</div>"
      ],
      "text/plain": [
       "              STATE        ST_CASE      VE_TOTAL      VE_FORMS      PVH_INVL  \\\n",
       "count  35766.000000   35766.000000  35766.000000  35766.000000  35766.000000   \n",
       "mean      27.158307  272387.092937      1.560113      1.517419      0.042694   \n",
       "std       16.354713  163438.330390      0.782449      0.736814      0.292877   \n",
       "min        1.000000   10001.000000      1.000000      1.000000      0.000000   \n",
       "25%       12.000000  122077.500000      1.000000      1.000000      0.000000   \n",
       "50%       26.000000  260916.500000      1.000000      1.000000      0.000000   \n",
       "75%       42.000000  420476.750000      2.000000      2.000000      0.000000   \n",
       "max       56.000000  560115.000000     15.000000     15.000000     10.000000   \n",
       "\n",
       "               PEDS       PERSONS       PERMVIT    PERNOTMVIT        COUNTY  \\\n",
       "count  35766.000000  35766.000000  35766.000000  35766.000000  35766.000000   \n",
       "mean       0.228485      2.172818      2.162585      0.238718     93.060421   \n",
       "std        0.470604      1.593437      1.589051      0.494223     98.691960   \n",
       "min        0.000000      0.000000      0.000000      0.000000      1.000000   \n",
       "25%        0.000000      1.000000      1.000000      0.000000     31.000000   \n",
       "50%        0.000000      2.000000      2.000000      0.000000     71.000000   \n",
       "75%        0.000000      3.000000      3.000000      0.000000    117.000000   \n",
       "max        8.000000     61.000000     61.000000      9.000000    999.000000   \n",
       "\n",
       "               CITY           DAY       DAYNAME         MONTH     YEAR  \\\n",
       "count  35766.000000  35766.000000  35766.000000  35766.000000  35766.0   \n",
       "mean    1435.924509     15.705139     15.705139      6.898283   2020.0   \n",
       "std     2294.504153      8.820912      8.820912      3.328276      0.0   \n",
       "min        0.000000      1.000000      1.000000      1.000000   2020.0   \n",
       "25%        0.000000      8.000000      8.000000      4.000000   2020.0   \n",
       "50%      120.000000     16.000000     16.000000      7.000000   2020.0   \n",
       "75%     2080.000000     23.000000     23.000000     10.000000   2020.0   \n",
       "max     9999.000000     31.000000     31.000000     12.000000   2020.0   \n",
       "\n",
       "           DAY_WEEK          HOUR        MINUTE           NHS         ROUTE  \\\n",
       "count  35766.000000  35766.000000  35766.000000  35766.000000  35766.000000   \n",
       "mean       4.113935     13.939579     29.241123      0.587653      3.901079   \n",
       "std        2.078864     10.571409     18.540796      1.281194      2.291921   \n",
       "min        1.000000      0.000000      0.000000      0.000000      1.000000   \n",
       "25%        2.000000      7.000000     14.000000      0.000000      2.000000   \n",
       "50%        4.000000     15.000000     30.000000      0.000000      3.000000   \n",
       "75%        6.000000     19.000000     45.000000      1.000000      6.000000   \n",
       "max        7.000000     99.000000     99.000000      9.000000      9.000000   \n",
       "\n",
       "            RUR_URB      FUNC_SYS      RD_OWNER        MILEPT      LATITUDE  \\\n",
       "count  35766.000000  35766.000000  35766.000000  35766.000000  35766.000000   \n",
       "mean       1.662025      6.038193     19.957166  19990.653582     36.897863   \n",
       "std        0.894967     14.282173     37.642541  39772.335330      7.195520   \n",
       "min        1.000000      1.000000      1.000000      0.000000     19.091031   \n",
       "25%        1.000000      3.000000      1.000000      2.000000     32.992904   \n",
       "50%        2.000000      4.000000      1.000000     80.000000     36.167465   \n",
       "75%        2.000000      5.000000      4.000000    955.500000     40.448067   \n",
       "max        9.000000     99.000000     99.000000  99999.000000     99.999900   \n",
       "\n",
       "           LONGITUD        SP_JUR       HARM_EV      MAN_COLL       RELJCT1  \\\n",
       "count  35766.000000  35766.000000  35766.000000  35766.000000  35766.000000   \n",
       "mean     -84.585258      0.040290     18.311357      1.928927      0.072835   \n",
       "std       91.134102      0.514434     14.440480      6.235890      0.486222   \n",
       "min     -165.304603      0.000000      1.000000      0.000000      0.000000   \n",
       "25%      -97.895707      0.000000      8.000000      0.000000      0.000000   \n",
       "50%      -87.807928      0.000000     12.000000      0.000000      0.000000   \n",
       "75%      -81.522910      0.000000     30.000000      2.000000      0.000000   \n",
       "max      999.999900      9.000000     99.000000     99.000000      9.000000   \n",
       "\n",
       "            RELJCT2       TYP_INT      WRK_ZONE      REL_ROAD      LGT_COND  \\\n",
       "count  35766.000000  35766.000000  35766.000000  35766.000000  35766.000000   \n",
       "mean       2.368339      1.763994      0.047475      2.557177      1.961052   \n",
       "std        6.408350      6.306104      0.381429      6.160332      1.222222   \n",
       "min        1.000000      1.000000      0.000000      1.000000      1.000000   \n",
       "25%        1.000000      1.000000      0.000000      1.000000      1.000000   \n",
       "50%        1.000000      1.000000      0.000000      1.000000      2.000000   \n",
       "75%        2.000000      1.000000      0.000000      4.000000      3.000000   \n",
       "max       99.000000     99.000000      4.000000     99.000000      9.000000   \n",
       "\n",
       "            WEATHER       SCH_BUS      NOT_HOUR       NOT_MIN      ARR_HOUR  \\\n",
       "count  35766.000000  35766.000000  35766.000000  35766.000000  35766.000000   \n",
       "mean       9.724683      0.001426     61.393642     68.456439     61.884387   \n",
       "std       25.543251      0.037735     42.613391     36.188582     42.549598   \n",
       "min        1.000000      0.000000      0.000000      0.000000      0.000000   \n",
       "25%        1.000000      0.000000     16.000000     34.000000     16.000000   \n",
       "50%        1.000000      0.000000     99.000000     98.000000     99.000000   \n",
       "75%        2.000000      0.000000     99.000000     99.000000     99.000000   \n",
       "max       99.000000      1.000000     99.000000     99.000000     99.000000   \n",
       "\n",
       "            ARR_MIN       HOSP_HR       HOSP_MN        FATALS      DRUNK_DR  \n",
       "count  35766.000000  35766.000000  35766.000000  35766.000000  35766.000000  \n",
       "mean      68.736901     77.587765     80.760583      1.085500      0.266426  \n",
       "std       36.144762     32.738110     27.561744      0.342381      0.459707  \n",
       "min        0.000000      0.000000      0.000000      1.000000      0.000000  \n",
       "25%       34.000000     88.000000     88.000000      1.000000      0.000000  \n",
       "50%       98.000000     88.000000     88.000000      1.000000      0.000000  \n",
       "75%       99.000000     99.000000     99.000000      1.000000      1.000000  \n",
       "max       99.000000     99.000000     99.000000      8.000000      4.000000  "
      ]
     },
     "execution_count": 52,
     "metadata": {},
     "output_type": "execute_result"
    }
   ],
   "source": [
    "#Es mostren els estadistics bàsics per cada variable\n",
    "\n",
    "df.describe()"
   ]
  },
  {
   "cell_type": "markdown",
   "metadata": {},
   "source": [
    "Mirant el summary no veiem valors atípics com valors negatius en els valors minim i cap valor que tendeixi cap a l'infinit als màxims"
   ]
  },
  {
   "cell_type": "markdown",
   "metadata": {},
   "source": [
    "Mirem si hi han valors nuls, si hi han  mirarem quines variables tenen valors nuls"
   ]
  },
  {
   "cell_type": "code",
   "execution_count": 74,
   "metadata": {},
   "outputs": [],
   "source": [
    "def missing_values_table(df):\n",
    "    mis_val = df.isnull().sum()\n",
    "    mis_val_percent = 100 * df.isnull().sum() / len(df)\n",
    "    mis_val_table = pd.concat([mis_val, mis_val_percent], axis=1)\n",
    "    mis_val_table_ren_columns = mis_val_table.rename(\n",
    "    columns = {0 : 'Missing Values', 1 : '% of Total Values'})\n",
    "    mis_val_table_ren_columns = mis_val_table_ren_columns[\n",
    "        mis_val_table_ren_columns.iloc[:,1] != 0].sort_values(\n",
    "    '% of Total Values', ascending=False).round(1)\n",
    "    print (\"El data  dataframe te  \" + str(df.shape[1]) + \" columnes.\\n\"      \n",
    "        \"Hi han  \" + str(mis_val_table_ren_columns.shape[0]) +\n",
    "            \" columnes ambmissing values.\")\n",
    "    return mis_val_table_ren_columns"
   ]
  },
  {
   "cell_type": "code",
   "execution_count": 75,
   "metadata": {},
   "outputs": [
    {
     "name": "stdout",
     "output_type": "stream",
     "text": [
      "El data  dataframe te  81 columnes.\n",
      "Hi han  3 columnes ambmissing values.\n"
     ]
    },
    {
     "data": {
      "text/html": [
       "<div>\n",
       "<style scoped>\n",
       "    .dataframe tbody tr th:only-of-type {\n",
       "        vertical-align: middle;\n",
       "    }\n",
       "\n",
       "    .dataframe tbody tr th {\n",
       "        vertical-align: top;\n",
       "    }\n",
       "\n",
       "    .dataframe thead th {\n",
       "        text-align: right;\n",
       "    }\n",
       "</style>\n",
       "<table border=\"1\" class=\"dataframe\">\n",
       "  <thead>\n",
       "    <tr style=\"text-align: right;\">\n",
       "      <th></th>\n",
       "      <th>Missing Values</th>\n",
       "      <th>% of Total Values</th>\n",
       "    </tr>\n",
       "  </thead>\n",
       "  <tbody>\n",
       "    <tr>\n",
       "      <th>WRK_ZONENAME</th>\n",
       "      <td>34992</td>\n",
       "      <td>97.8</td>\n",
       "    </tr>\n",
       "    <tr>\n",
       "      <th>TWAY_ID2</th>\n",
       "      <td>26997</td>\n",
       "      <td>75.5</td>\n",
       "    </tr>\n",
       "    <tr>\n",
       "      <th>MILEPTNAME</th>\n",
       "      <td>8484</td>\n",
       "      <td>23.7</td>\n",
       "    </tr>\n",
       "  </tbody>\n",
       "</table>\n",
       "</div>"
      ],
      "text/plain": [
       "              Missing Values  % of Total Values\n",
       "WRK_ZONENAME           34992               97.8\n",
       "TWAY_ID2               26997               75.5\n",
       "MILEPTNAME              8484               23.7"
      ]
     },
     "execution_count": 75,
     "metadata": {},
     "output_type": "execute_result"
    }
   ],
   "source": [
    "#Aquestes variables son les que trobem valors nuls, no seran utilitzables en el nostre experiments\n",
    "missing_values_table(df)\n",
    "\n"
   ]
  },
  {
   "cell_type": "code",
   "execution_count": 55,
   "metadata": {},
   "outputs": [
    {
     "name": "stdout",
     "output_type": "stream",
     "text": [
      "Aquest variable conte 7721 valors diferents\n"
     ]
    }
   ],
   "source": [
    "#Anem a observar quins valors hi han a aquesta variable  \n",
    "pd.set_option('display.max_columns', None) \n",
    "\n",
    "df3 = pd.DataFrame(df['TWAY_ID2'].value_counts())\n",
    "print(\"Aquest variable conte \"+ str(df3.size) + \" valors diferents\")\n"
   ]
  },
  {
   "cell_type": "markdown",
   "metadata": {},
   "source": [
    "Com s'ha llegit el document no fa faltar observar si hi han espais en blanc ja que s'han catalogat com  un nan"
   ]
  },
  {
   "cell_type": "markdown",
   "metadata": {},
   "source": [
    "Anem a fer una exploració amb les dades que te el dataset"
   ]
  },
  {
   "cell_type": "code",
   "execution_count": 56,
   "metadata": {},
   "outputs": [
    {
     "data": {
      "image/png": "[encoded data removed]",
      "text/plain": [
       "<Figure size 432x288 with 1 Axes>"
      ]
     },
     "metadata": {
      "needs_background": "light"
     },
     "output_type": "display_data"
    }
   ],
   "source": [
    "x_values = df['DAY']\n",
    "y_values = df['FATALS']\n",
    "plt.bar(x_values, y_values)\n",
    "plt.show()\n",
    "plt.close('all')"
   ]
  },
  {
   "cell_type": "markdown",
   "metadata": {},
   "source": [
    "Anem a observar la frecuencia amb les seguents variables: \n",
    "    FATALS\n",
    "    DRUNK_DE\n",
    "    VE_TOTAL\n",
    "    VE_FORMS\n",
    "    PVH_INVL\n"
   ]
  },
  {
   "cell_type": "code",
   "execution_count": 57,
   "metadata": {},
   "outputs": [
    {
     "name": "stdout",
     "output_type": "stream",
     "text": [
      "count    35766.000000\n",
      "mean         1.085500\n",
      "std          0.342381\n",
      "min          1.000000\n",
      "25%          1.000000\n",
      "50%          1.000000\n",
      "75%          1.000000\n",
      "max          8.000000\n",
      "Name: FATALS, dtype: float64\n"
     ]
    },
    {
     "data": {
      "text/plain": [
       "<AxesSubplot:xlabel='FATALS'>"
      ]
     },
     "execution_count": 57,
     "metadata": {},
     "output_type": "execute_result"
    },
    {
     "data": {
      "image/png": "[encoded data removed]",
      "text/plain": [
       "<Figure size 432x288 with 1 Axes>"
      ]
     },
     "metadata": {
      "needs_background": "light"
     },
     "output_type": "display_data"
    }
   ],
   "source": [
    "# S'observa que lo mes frecuent o el valor mes repetit es 1 \n",
    "print(df['FATALS'].describe())\n",
    "freq = df.groupby(['FATALS']).size() \n",
    "freq.plot.bar()"
   ]
  },
  {
   "cell_type": "code",
   "execution_count": 58,
   "metadata": {},
   "outputs": [
    {
     "name": "stdout",
     "output_type": "stream",
     "text": [
      "count    35766.000000\n",
      "mean         0.266426\n",
      "std          0.459707\n",
      "min          0.000000\n",
      "25%          0.000000\n",
      "50%          0.000000\n",
      "75%          1.000000\n",
      "max          4.000000\n",
      "Name: DRUNK_DR, dtype: float64\n"
     ]
    },
    {
     "data": {
      "text/plain": [
       "<AxesSubplot:xlabel='DRUNK_DR'>"
      ]
     },
     "execution_count": 58,
     "metadata": {},
     "output_type": "execute_result"
    },
    {
     "data": {
      "image/png": "[encoded data removed]",
      "text/plain": [
       "<Figure size 432x288 with 1 Axes>"
      ]
     },
     "metadata": {
      "needs_background": "light"
     },
     "output_type": "display_data"
    }
   ],
   "source": [
    "# S'observa que lo mes frecuent es cap \n",
    "print(df['DRUNK_DR'].describe())\n",
    "freq = df.groupby(['DRUNK_DR']).size() \n",
    "freq.plot.bar()"
   ]
  },
  {
   "cell_type": "code",
   "execution_count": 59,
   "metadata": {},
   "outputs": [
    {
     "name": "stdout",
     "output_type": "stream",
     "text": [
      "count    35766.000000\n",
      "mean         1.560113\n",
      "std          0.782449\n",
      "min          1.000000\n",
      "25%          1.000000\n",
      "50%          1.000000\n",
      "75%          2.000000\n",
      "max         15.000000\n",
      "Name: VE_TOTAL, dtype: float64\n"
     ]
    },
    {
     "data": {
      "text/plain": [
       "<AxesSubplot:xlabel='VE_TOTAL'>"
      ]
     },
     "execution_count": 59,
     "metadata": {},
     "output_type": "execute_result"
    },
    {
     "data": {
      "image/png": "[encoded data removed]",
      "text/plain": [
       "<Figure size 432x288 with 1 Axes>"
      ]
     },
     "metadata": {
      "needs_background": "light"
     },
     "output_type": "display_data"
    }
   ],
   "source": [
    "#Si s'observa la variable de vehicles totals implicats en un accident  en la gran majoria de casos son 1 o 2 cotxe, observant les dades es un promig de 1.56\n",
    "print(df['VE_TOTAL'].describe())\n",
    "freq = df.groupby(['VE_TOTAL']).size() \n",
    "freq.plot.bar()"
   ]
  },
  {
   "cell_type": "code",
   "execution_count": 60,
   "metadata": {},
   "outputs": [
    {
     "name": "stdout",
     "output_type": "stream",
     "text": [
      "count    35766.000000\n",
      "mean         1.517419\n",
      "std          0.736814\n",
      "min          1.000000\n",
      "25%          1.000000\n",
      "50%          1.000000\n",
      "75%          2.000000\n",
      "max         15.000000\n",
      "Name: VE_FORMS, dtype: float64\n"
     ]
    },
    {
     "data": {
      "text/plain": [
       "<AxesSubplot:xlabel='VE_FORMS'>"
      ]
     },
     "execution_count": 60,
     "metadata": {},
     "output_type": "execute_result"
    },
    {
     "data": {
      "image/png": "[encoded data removed]",
      "text/plain": [
       "<Figure size 432x288 with 1 Axes>"
      ]
     },
     "metadata": {
      "needs_background": "light"
     },
     "output_type": "display_data"
    }
   ],
   "source": [
    "#Observem que hi ha 1.5 vehicles de mitja, un vehicle no pot ser mig aleshores serien 2 vehicles\n",
    "print(df['VE_FORMS'].describe())\n",
    "freq = df.groupby(['VE_FORMS']).size() \n",
    "freq.plot.bar()"
   ]
  },
  {
   "cell_type": "code",
   "execution_count": 61,
   "metadata": {},
   "outputs": [
    {
     "name": "stdout",
     "output_type": "stream",
     "text": [
      "count    35766.000000\n",
      "mean         0.042694\n",
      "std          0.292877\n",
      "min          0.000000\n",
      "25%          0.000000\n",
      "50%          0.000000\n",
      "75%          0.000000\n",
      "max         10.000000\n",
      "Name: PVH_INVL, dtype: float64\n"
     ]
    },
    {
     "data": {
      "text/plain": [
       "<AxesSubplot:xlabel='PVH_INVL'>"
      ]
     },
     "execution_count": 61,
     "metadata": {},
     "output_type": "execute_result"
    },
    {
     "data": {
      "image/png": "[encoded data removed]",
      "text/plain": [
       "<Figure size 432x288 with 1 Axes>"
      ]
     },
     "metadata": {
      "needs_background": "light"
     },
     "output_type": "display_data"
    }
   ],
   "source": [
    "#En la gran majoria de casos no hi ha cap vehicle estacionat \n",
    "print(df['PVH_INVL'].describe())\n",
    "freq = df.groupby(['PVH_INVL']).size() \n",
    "freq.plot.bar()"
   ]
  },
  {
   "cell_type": "markdown",
   "metadata": {},
   "source": [
    "Seguidament mirarem les persones implicades en els accidents , anem a fer les visualitzacions corresponents"
   ]
  },
  {
   "cell_type": "code",
   "execution_count": 62,
   "metadata": {},
   "outputs": [
    {
     "name": "stdout",
     "output_type": "stream",
     "text": [
      "count    35766.000000\n",
      "mean         0.228485\n",
      "std          0.470604\n",
      "min          0.000000\n",
      "25%          0.000000\n",
      "50%          0.000000\n",
      "75%          0.000000\n",
      "max          8.000000\n",
      "Name: PEDS, dtype: float64\n"
     ]
    },
    {
     "data": {
      "text/plain": [
       "<AxesSubplot:xlabel='PEDS'>"
      ]
     },
     "execution_count": 62,
     "metadata": {},
     "output_type": "execute_result"
    },
    {
     "data": {
      "image/png": "[encoded data removed]",
      "text/plain": [
       "<Figure size 432x288 with 1 Axes>"
      ]
     },
     "metadata": {
      "needs_background": "light"
     },
     "output_type": "display_data"
    }
   ],
   "source": [
    "#En la gran majoria dels casos no hi ha cap persona que sigui vianants  com indica la mitja \n",
    "print(df['PEDS'].describe())\n",
    "freq = df.groupby(['PEDS']).size() \n",
    "freq.plot.bar()"
   ]
  },
  {
   "cell_type": "code",
   "execution_count": 63,
   "metadata": {},
   "outputs": [
    {
     "name": "stdout",
     "output_type": "stream",
     "text": [
      "count    35766.000000\n",
      "mean         2.172818\n",
      "std          1.593437\n",
      "min          0.000000\n",
      "25%          1.000000\n",
      "50%          2.000000\n",
      "75%          3.000000\n",
      "max         61.000000\n",
      "Name: PERSONS, dtype: float64\n"
     ]
    },
    {
     "data": {
      "text/plain": [
       "<AxesSubplot:xlabel='PERSONS'>"
      ]
     },
     "execution_count": 63,
     "metadata": {},
     "output_type": "execute_result"
    },
    {
     "data": {
      "image/png": "[encoded data removed]",
      "text/plain": [
       "<Figure size 432x288 with 1 Axes>"
      ]
     },
     "metadata": {
      "needs_background": "light"
     },
     "output_type": "display_data"
    }
   ],
   "source": [
    "#En la gran majoria dels accidents trobem que hi han una mitjana de 2.17 ocupants\n",
    "print(df['PERSONS'].describe())\n",
    "freq = df.groupby(['PERSONS']).size() \n",
    "freq.plot.bar()"
   ]
  },
  {
   "cell_type": "code",
   "execution_count": 64,
   "metadata": {},
   "outputs": [
    {
     "name": "stdout",
     "output_type": "stream",
     "text": [
      "count    35766.000000\n",
      "mean         2.162585\n",
      "std          1.589051\n",
      "min          0.000000\n",
      "25%          1.000000\n",
      "50%          2.000000\n",
      "75%          3.000000\n",
      "max         61.000000\n",
      "Name: PERMVIT, dtype: float64\n"
     ]
    },
    {
     "data": {
      "text/plain": [
       "<AxesSubplot:xlabel='PERMVIT'>"
      ]
     },
     "execution_count": 64,
     "metadata": {},
     "output_type": "execute_result"
    },
    {
     "data": {
      "image/png": "[encoded data removed]",
      "text/plain": [
       "<Figure size 432x288 with 1 Axes>"
      ]
     },
     "metadata": {
      "needs_background": "light"
     },
     "output_type": "display_data"
    }
   ],
   "source": [
    "#S'observa que de mitja hi han 2.16  conductors i ocupants implicats en un accident\n",
    "print(df['PERMVIT'].describe())\n",
    "freq = df.groupby(['PERMVIT']).size() \n",
    "freq.plot.bar()\n"
   ]
  },
  {
   "cell_type": "code",
   "execution_count": 65,
   "metadata": {},
   "outputs": [
    {
     "name": "stdout",
     "output_type": "stream",
     "text": [
      "count    35766.000000\n",
      "mean         0.238718\n",
      "std          0.494223\n",
      "min          0.000000\n",
      "25%          0.000000\n",
      "50%          0.000000\n",
      "75%          0.000000\n",
      "max          9.000000\n",
      "Name: PERNOTMVIT, dtype: float64\n"
     ]
    },
    {
     "data": {
      "text/plain": [
       "<AxesSubplot:xlabel='PERNOTMVIT'>"
      ]
     },
     "execution_count": 65,
     "metadata": {},
     "output_type": "execute_result"
    },
    {
     "data": {
      "image/png": "[encoded data removed]",
      "text/plain": [
       "<Figure size 432x288 with 1 Axes>"
      ]
     },
     "metadata": {
      "needs_background": "light"
     },
     "output_type": "display_data"
    }
   ],
   "source": [
    "# S'estudia tota persona que implica no motoritzat, en la gran majoria dels casos son 0 pero podem trobar fins a 9 \n",
    "print(df['PERNOTMVIT'].describe())\n",
    "freq = df.groupby(['PERNOTMVIT']).size() \n",
    "freq.plot.bar()\n",
    "\n",
    "\n"
   ]
  },
  {
   "cell_type": "markdown",
   "metadata": {},
   "source": [
    "Ara anem a veure la combinacio de morts fatals amb conductors veguts"
   ]
  },
  {
   "cell_type": "code",
   "execution_count": 66,
   "metadata": {},
   "outputs": [
    {
     "name": "stdout",
     "output_type": "stream",
     "text": [
      "count     35766\n",
      "unique        2\n",
      "top          NO\n",
      "freq      26511\n",
      "Name: DRUNK_DR_TF, dtype: object\n"
     ]
    },
    {
     "data": {
      "text/plain": [
       "<AxesSubplot:xlabel='DRUNK_DR_TF'>"
      ]
     },
     "execution_count": 66,
     "metadata": {},
     "output_type": "execute_result"
    },
    {
     "data": {
      "image/png": "[encoded data removed]",
      "text/plain": [
       "<Figure size 432x288 with 1 Axes>"
      ]
     },
     "metadata": {
      "needs_background": "light"
     },
     "output_type": "display_data"
    }
   ],
   "source": [
    "#Crearem una variable nova al dataframe per veure si eren conductos beguts o no . El valor 0 representa que no i 1 si.  UN 75 % dels accidents  no estan causats per conductors veguts  i el 25% restant si\n",
    "\n",
    "df['DRUNK_DR_TF']= \"NO\"\n",
    "\n",
    "for i in range(len(df)):\n",
    "   a =  df.iloc[i]['DRUNK_DR']\n",
    "   if a > 0 :\n",
    "    df.loc[i, 'DRUNK_DR_TF'] = \"SI\"\n",
    "  \n",
    "print(df['DRUNK_DR_TF'].describe())\n",
    "\n",
    "\n",
    "freq = df.groupby(['DRUNK_DR_TF']).size() \n",
    "freq.plot.bar()\n",
    "\n"
   ]
  },
  {
   "cell_type": "markdown",
   "metadata": {},
   "source": [
    "Anem a observar la correlació de les dades amb una matriu, en aquest pas eligirem les variables del conjunt"
   ]
  },
  {
   "cell_type": "code",
   "execution_count": 151,
   "metadata": {},
   "outputs": [
    {
     "name": "stdout",
     "output_type": "stream",
     "text": [
      "Correlació primer dataframe\n",
      "              FATALS  DRUNK_DR  VE_TOTAL  VE_FORMS  PVH_INVL      PEDS  \\\n",
      "FATALS      1.000000  0.048722  0.130481  0.132417  0.015459 -0.062247   \n",
      "DRUNK_DR    0.048722  1.000000 -0.023189 -0.030830  0.015610 -0.194928   \n",
      "VE_TOTAL    0.130481 -0.023189  1.000000  0.927414  0.338424 -0.204354   \n",
      "VE_FORMS    0.132417 -0.030830  0.927414  1.000000 -0.038106 -0.238065   \n",
      "PVH_INVL    0.015459  0.015610  0.338424 -0.038106  1.000000  0.052968   \n",
      "PEDS       -0.062247 -0.194928 -0.204354 -0.238065  0.052968  1.000000   \n",
      "PERSONS     0.284210 -0.012359  0.631536  0.665099  0.013966 -0.221193   \n",
      "PERMVIT     0.284496 -0.012794  0.622845  0.668735 -0.018400 -0.223874   \n",
      "PERNOTMVIT -0.057668 -0.184322 -0.161039 -0.232475  0.154626  0.958868   \n",
      "\n",
      "             PERSONS   PERMVIT  PERNOTMVIT  \n",
      "FATALS      0.284210  0.284496   -0.057668  \n",
      "DRUNK_DR   -0.012359 -0.012794   -0.184322  \n",
      "VE_TOTAL    0.631536  0.622845   -0.161039  \n",
      "VE_FORMS    0.665099  0.668735   -0.232475  \n",
      "PVH_INVL    0.013966 -0.018400    0.154626  \n",
      "PEDS       -0.221193 -0.223874    0.958868  \n",
      "PERSONS     1.000000  0.996115   -0.189258  \n",
      "PERMVIT     0.996115  1.000000   -0.216825  \n",
      "PERNOTMVIT -0.189258 -0.216825    1.000000  \n",
      "\n",
      "Correlació segon dataframe\n",
      "<bound method DataFrame.corr of        FATALS  DRUNK_DR  VE_TOTAL  VE_FORMS  PVH_INVL  PEDS  TOTAL_PERSONS  \\\n",
      "0           3         1         1         1         0     0              4   \n",
      "1           1         0         4         4         0     0              6   \n",
      "2           1         0         2         2         0     0              2   \n",
      "3           1         0         1         1         0     0              5   \n",
      "4           1         0         1         1         0     0              1   \n",
      "...       ...       ...       ...       ...       ...   ...            ...   \n",
      "35761       1         0         2         2         0     0              2   \n",
      "35762       2         0         3         3         0     0              8   \n",
      "35763       1         0         3         3         0     0              9   \n",
      "35764       1         0         2         2         0     1              4   \n",
      "35765       1         0         1         1         0     0              2   \n",
      "\n",
      "       PERSONS  PERMVIT  PERNOTMVIT  \n",
      "0            4        4           0  \n",
      "1            6        6           0  \n",
      "2            2        2           0  \n",
      "3            5        5           0  \n",
      "4            1        1           0  \n",
      "...        ...      ...         ...  \n",
      "35761        2        2           0  \n",
      "35762        8        8           0  \n",
      "35763        9        9           0  \n",
      "35764        3        3           1  \n",
      "35765        2        2           0  \n",
      "\n",
      "[35766 rows x 10 columns]>\n",
      "\n",
      "Correlació tercer dataframe\n",
      "               DRUNK_DR  VE_TOTAL  VE_FORMS  PVH_INVL  TOTAL_PERSONS\n",
      "DRUNK_DR       1.000000 -0.023189 -0.030830  0.015610      -0.072162\n",
      "VE_TOTAL      -0.023189  1.000000  0.927414  0.338424       0.575389\n",
      "VE_FORMS      -0.030830  0.927414  1.000000 -0.038106       0.612129\n",
      "PVH_INVL       0.015610  0.338424 -0.038106  1.000000      -0.002776\n",
      "TOTAL_PERSONS -0.072162  0.575389  0.612129 -0.002776       1.000000\n"
     ]
    }
   ],
   "source": [
    "df1 = df[['FATALS','DRUNK_DR','VE_TOTAL','VE_FORMS','PVH_INVL','PEDS','PERSONS','PERMVIT','PERNOTMVIT']]\n",
    "print(\"Correlació primer dataframe\")\n",
    "print(df1.corr())\n",
    "print(\"\")\n",
    "\n",
    "# Es crea una nova variable amb la suma de tots els individus , amb les variables persons + permvit\n",
    "\n",
    "df['TOTAL_PERSONS']= 0\n",
    "\n",
    "for i in range(len(df)):\n",
    "   persons =  df.iloc[i]['PEDS']\n",
    "   persons1 =  df.iloc[i]['PERMVIT']\n",
    "   df.loc[i, 'TOTAL_PERSONS'] = persons+persons1\n",
    "\n",
    "   \n",
    "df2 = df[['FATALS','DRUNK_DR','VE_TOTAL','VE_FORMS','PVH_INVL','PEDS','TOTAL_PERSONS','PERSONS','PERMVIT','PERNOTMVIT']]\n",
    "print(\"Correlació segon dataframe\")\n",
    "print(df2.corr)\n",
    "print(\"\")\n",
    "\n",
    "#El conjunt de dades que agafarem per preedir el numero de morts es el seguent\n",
    "\n",
    "print(\"Correlació tercer dataframe\")\n",
    "df3 = df[['DRUNK_DR','VE_TOTAL','VE_FORMS','PVH_INVL','TOTAL_PERSONS']]\n",
    "print(df3.corr())\n"
   ]
  },
  {
   "cell_type": "markdown",
   "metadata": {},
   "source": [
    "Hara anirem a crear noves variables que ens ajudaran a entendre millor les variables "
   ]
  },
  {
   "cell_type": "code",
   "execution_count": 67,
   "metadata": {},
   "outputs": [
    {
     "name": "stdout",
     "output_type": "stream",
     "text": [
      "count    35766.0\n",
      "mean         1.0\n",
      "std          0.0\n",
      "min          1.0\n",
      "25%          1.0\n",
      "50%          1.0\n",
      "75%          1.0\n",
      "max          1.0\n",
      "Name: FATALS_TF, dtype: float64\n"
     ]
    },
    {
     "data": {
      "text/plain": [
       "<AxesSubplot:xlabel='FATALS_TF'>"
      ]
     },
     "execution_count": 67,
     "metadata": {},
     "output_type": "execute_result"
    },
    {
     "data": {
      "image/png": "[encoded data removed]",
      "text/plain": [
       "<Figure size 432x288 with 1 Axes>"
      ]
     },
     "metadata": {
      "needs_background": "light"
     },
     "output_type": "display_data"
    }
   ],
   "source": [
    "#Crearem una nova variable per saber si hi han morts, en aquest data set tot accident te morts axò si que ho podem afirmar\n",
    "\n",
    "\n",
    "df['FATALS_TF']= 0\n",
    "\n",
    "for i in range(len(df)):\n",
    "   a =  df.iloc[i]['FATALS']\n",
    "   if a > 0 :\n",
    "    df.loc[i, 'FATALS_TF'] = 1\n",
    "  \n",
    "print(df['FATALS_TF'].describe())\n",
    "\n",
    "freq = df.groupby(['FATALS_TF']).size() \n",
    "freq.plot.bar()"
   ]
  },
  {
   "cell_type": "code",
   "execution_count": 68,
   "metadata": {},
   "outputs": [
    {
     "name": "stdout",
     "output_type": "stream",
     "text": [
      "count           35766\n",
      "unique              3\n",
      "top       [0.33-0.66]\n",
      "freq            19709\n",
      "Name: RANGE_FATALS, dtype: object\n"
     ]
    },
    {
     "data": {
      "text/plain": [
       "<AxesSubplot:xlabel='RANGE_FATALS'>"
      ]
     },
     "execution_count": 68,
     "metadata": {},
     "output_type": "execute_result"
    },
    {
     "data": {
      "image/png": "[encoded data removed]",
      "text/plain": [
       "<Figure size 432x288 with 1 Axes>"
      ]
     },
     "metadata": {
      "needs_background": "light"
     },
     "output_type": "display_data"
    }
   ],
   "source": [
    "# Es crea un rate del % de nombres de morts, aquest rate esta compost entre persones mortes i el total de persones\n",
    "df['RATE_FATALS']= 0\n",
    "df['RANGE_FATALS']=''\n",
    "\n",
    "for i in range(len(df)):\n",
    "   fatals =  df.iloc[i]['FATALS']\n",
    "   persons = df.iloc[i]['PERMVIT'] + df.iloc[i]['PERNOTMVIT']\n",
    "   if(fatals > 0 ):\n",
    "    df.loc[i, 'RATE_FATALS'] = float(fatals/persons)\n",
    "    n = float(fatals/persons)\n",
    "    if n >= 0.00 and n < 0.33 :\n",
    "            df.loc[i, 'RANGE_FATALS']= \"[0.0-0.33]\"\n",
    "    if n >= 0.33 and n < 0.66 :\n",
    "            df.loc[i, 'RANGE_FATALS']= \"[0.33-0.66]\"\n",
    "    \n",
    "    if n >= 0.66  :\n",
    "            df.loc[i, 'RANGE_FATALS']= \"[0.66-1]\"     \n",
    "            \n",
    "   \n",
    "  \n",
    "print(df['RANGE_FATALS'].describe())\n",
    "\n",
    "aux = df[(df.RATE_FATALS>float(0))]\n",
    "\n",
    "freq = df.groupby(['RANGE_FATALS']).size() \n",
    "freq.plot.bar()\n",
    "\n",
    "\n",
    "\n"
   ]
  },
  {
   "cell_type": "markdown",
   "metadata": {},
   "source": [
    "Em la gran majoria del casos estan situats en l'interval 0.33-0.66, això vol dir que el 50% de persones implicades mort en l'accident  "
   ]
  },
  {
   "cell_type": "code",
   "execution_count": 69,
   "metadata": {},
   "outputs": [
    {
     "data": {
      "text/plain": [
       "<AxesSubplot:xlabel='RANGE_FATALS'>"
      ]
     },
     "execution_count": 69,
     "metadata": {},
     "output_type": "execute_result"
    },
    {
     "data": {
      "image/png": "[encoded data removed]",
      "text/plain": [
       "<Figure size 432x288 with 1 Axes>"
      ]
     },
     "metadata": {
      "needs_background": "light"
     },
     "output_type": "display_data"
    }
   ],
   "source": [
    "#Es crea un plot amb variable x = range fatals i com variable y = vehicles implicats i persones de vehicles implicades. S'observa que el rang de 0.33-0.66 es el que te mes persones y vehicles implicats\n",
    "\n",
    "\n",
    "casos_edad = df.groupby([\"RANGE_FATALS\"]).sum(['VE_TOTAL','PERMVIT'])\n",
    "\n",
    "casos_edad.plot.bar(y=['VE_TOTAL','PERMVIT'])"
   ]
  },
  {
   "cell_type": "markdown",
   "metadata": {},
   "source": [
    "Realitzarem la discretitzacio, crearem una nova variable per saber a quina epoca del any hi han mes accidents: Hivern, Primavera, Estiu, Tardor"
   ]
  },
  {
   "cell_type": "code",
   "execution_count": 142,
   "metadata": {},
   "outputs": [
    {
     "name": "stdout",
     "output_type": "stream",
     "text": [
      "count     35766\n",
      "unique        4\n",
      "top       Estiu\n",
      "freq      10323\n",
      "Name: ESTACIO, dtype: object\n"
     ]
    },
    {
     "data": {
      "text/plain": [
       "<AxesSubplot:xlabel='ESTACIO'>"
      ]
     },
     "execution_count": 142,
     "metadata": {},
     "output_type": "execute_result"
    },
    {
     "data": {
      "image/png": "[encoded data removed]",
      "text/plain": [
       "<Figure size 432x288 with 1 Axes>"
      ]
     },
     "metadata": {
      "needs_background": "light"
     },
     "output_type": "display_data"
    }
   ],
   "source": [
    "#Es pot observar que quan es estiu es quan hi han mes accidents de transit i aleshores mes mortalitat \n",
    "import datetime\n",
    "\n",
    "\n",
    "for i in range(len(df)):\n",
    "   dia =  int(df.iloc[i]['DAY'])\n",
    "   mes = int(df.iloc[i]['MONTH'] )\n",
    "   \n",
    "   date = datetime.datetime.strptime('2020'+'-'+ str(mes)+'-'+ str(dia),'%Y-%m-%d')\n",
    "\n",
    "  \n",
    "   if (  date >= datetime.datetime.strptime('2020-03-26', \"%Y-%m-%d\")) and  (  date <= datetime.datetime.strptime('2020-06-21', \"%Y-%m-%d\")) : \n",
    "         df.loc[i, 'ESTACIO']= \"Primavera\"\n",
    "   elif (  date >= datetime.datetime.strptime('2020-09-23', \"%Y-%m-%d\")) and  (  date <= datetime.datetime.strptime('2020-12-21', \"%Y-%m-%d\")) :\n",
    "             df.loc[i, 'ESTACIO']= \"Tardor\"  \n",
    "   elif (  date > datetime.datetime.strptime('2020-06-21', \"%Y-%m-%d\")) and  (  date < datetime.datetime.strptime('2020-09-21', \"%Y-%m-%d\")) :    \n",
    "         df.loc[i, 'ESTACIO']= \"Estiu\"            \n",
    "   elif (  date > datetime.datetime.strptime('2020-12-21', \"%Y-%m-%d\")) and  (  date < datetime.datetime.strptime('2020-03-26', \"%Y-%m-%d\")) :    \n",
    "         df.loc[i, 'ESTACIO']= \"Hivern\"  \n",
    "         \n",
    " \n",
    "\n",
    "                 \n",
    "print(df['ESTACIO'].describe())\n",
    "\n",
    "freq = df.groupby(['ESTACIO']).size() \n",
    "freq.plot.bar()\n",
    "\n",
    "  "
   ]
  },
  {
   "cell_type": "markdown",
   "metadata": {},
   "source": [
    "Ara farem la normalitzacio de les dades seleccionades, data frame que utilitzarem sera el df3"
   ]
  },
  {
   "cell_type": "code",
   "execution_count": 157,
   "metadata": {},
   "outputs": [
    {
     "name": "stdout",
     "output_type": "stream",
     "text": [
      "['DRUNK_DR' 'VE_TOTAL' 'VE_FORMS' 'PVH_INVL' 'TOTAL_PERSONS']\n",
      "       DRUNK_DR  VE_TOTAL  VE_FORMS  PVH_INVL  TOTAL_PERSONS\n",
      "0          0.25  0.000000  0.000000       0.0       0.050000\n",
      "1          0.00  0.214286  0.214286       0.0       0.083333\n",
      "2          0.00  0.071429  0.071429       0.0       0.016667\n",
      "3          0.00  0.000000  0.000000       0.0       0.066667\n",
      "4          0.00  0.000000  0.000000       0.0       0.000000\n",
      "...         ...       ...       ...       ...            ...\n",
      "35761      0.00  0.071429  0.071429       0.0       0.016667\n",
      "35762      0.00  0.142857  0.142857       0.0       0.116667\n",
      "35763      0.00  0.142857  0.142857       0.0       0.133333\n",
      "35764      0.00  0.071429  0.071429       0.0       0.050000\n",
      "35765      0.00  0.000000  0.000000       0.0       0.016667\n",
      "\n",
      "[35766 rows x 5 columns]\n",
      "           DRUNK_DR      VE_TOTAL      VE_FORMS      PVH_INVL  TOTAL_PERSONS\n",
      "count  35766.000000  35766.000000  35766.000000  35766.000000   35766.000000\n",
      "mean       0.066607      0.040008      0.036958      0.004269       0.023184\n",
      "std        0.114927      0.055889      0.052630      0.029288       0.025883\n",
      "min        0.000000      0.000000      0.000000      0.000000       0.000000\n",
      "25%        0.000000      0.000000      0.000000      0.000000       0.000000\n",
      "50%        0.000000      0.000000      0.000000      0.000000       0.016667\n",
      "75%        0.250000      0.071429      0.071429      0.000000       0.033333\n",
      "max        1.000000      1.000000      1.000000      1.000000       1.000000\n"
     ]
    }
   ],
   "source": [
    "#Aquests son les variables que elegim per el nostre dataset final, normalitzarem les dades utilitzant el minim i max\n",
    "print(df3.columns.values)\n",
    "\n",
    "df_min_max_scaled = df3.copy() \n",
    "  \n",
    "for column in df_min_max_scaled.columns: \n",
    "    df_min_max_scaled[column] = (df_min_max_scaled[column] - df_min_max_scaled[column].min()) / (df_min_max_scaled[column].max() - df_min_max_scaled[column].min())     \n",
    "  \n",
    "print(df_min_max_scaled)\n",
    "print(df_min_max_scaled.describe())\n",
    "\n"
   ]
  },
  {
   "cell_type": "markdown",
   "metadata": {},
   "source": [
    "Ara es realitzara la classificació del model utilitzant la tècnica del pca"
   ]
  },
  {
   "cell_type": "code",
   "execution_count": 171,
   "metadata": {},
   "outputs": [
    {
     "name": "stdout",
     "output_type": "stream",
     "text": [
      "Shape before PCA:  (35766, 5)\n",
      "Shape after PCA:  (35766, 4)\n",
      "            PC1       PC2       PC3       PC4\n",
      "0     -0.434527  0.195154 -1.506097  1.466795\n",
      "1      5.094391 -0.811396  0.019831 -0.472084\n",
      "2      0.619550 -0.279380  0.428470 -0.721200\n",
      "3     -0.013589 -0.732841  0.484756  1.847395\n",
      "4     -1.297014 -0.157266  0.603182 -0.307128\n",
      "...         ...       ...       ...       ...\n",
      "35761  0.619550 -0.279380  0.428470 -0.721200\n",
      "35762  4.140396 -1.120964  0.105724  1.557881\n",
      "35763  4.461252 -1.264857  0.076117  2.096511\n",
      "35764  1.261263 -0.567168  0.369256  0.356061\n",
      "35765 -0.976158 -0.301160  0.573576  0.231503\n",
      "\n",
      "[35766 rows x 4 columns]\n"
     ]
    }
   ],
   "source": [
    "# S'escala la data\n",
    "x_scaled = StandardScaler().fit_transform(df_min_max_scaled)\n",
    "\n",
    "\n",
    "#Reduirem les components a 4 ja que el nombre de invidus no ens aportara molt en el nostre experiment \n",
    "pca = PCA(n_components=4)\n",
    " \n",
    "pca_features = pca.fit_transform(x_scaled)\n",
    " \n",
    "print('Shape before PCA: ', x_scaled.shape)\n",
    "print('Shape after PCA: ', pca_features.shape)\n",
    " \n",
    "pca_df = pd.DataFrame(\n",
    "    data=pca_features, \n",
    "    columns=['PC1', 'PC2', 'PC3','PC4'])\n",
    "\n",
    "print(pca_df)"
   ]
  },
  {
   "cell_type": "code",
   "execution_count": 173,
   "metadata": {},
   "outputs": [
    {
     "name": "stdout",
     "output_type": "stream",
     "text": [
      "NumPy covariance matrix: \n",
      "[[ 1.00002796 -0.02318966 -0.03083093  0.01561049 -0.07216359]\n",
      " [-0.02318966  1.00002796  0.92744009  0.33843395  0.57540523]\n",
      " [-0.03083093  0.92744009  1.00002796 -0.03810692  0.61214641]\n",
      " [ 0.01561049  0.33843395 -0.03810692  1.00002796 -0.00277647]\n",
      " [-0.07216359  0.57540523  0.61214641 -0.00277647  1.00002796]]\n",
      "Eigenvectors \n",
      "[[-4.60077166e-02  9.28805825e-01  3.60451725e-01  7.26469750e-02\n",
      "   1.76902417e-16]\n",
      " [ 6.11729021e-01 -1.54252887e-02  1.81336473e-01 -3.15108660e-01\n",
      "  -7.02405354e-01]\n",
      " [ 5.99672558e-01  1.21440344e-01 -1.54713068e-01 -4.05224597e-01\n",
      "   6.61439309e-01]\n",
      " [ 1.25647555e-01 -3.46727716e-01  8.73682545e-01  1.77613719e-01\n",
      "   2.62915879e-01]\n",
      " [ 4.98273429e-01  4.59775276e-02 -2.23459872e-01  8.36465984e-01\n",
      "   7.68794703e-16]]\n",
      "\n",
      "Eigenvalues \n",
      "[ 2.44913334e+00  9.86982280e-01  1.08416987e+00  4.79854317e-01\n",
      " -5.78914113e-15]\n"
     ]
    }
   ],
   "source": [
    "print('NumPy covariance matrix: \\n%s' %np.cov(x_scaled.T))\n",
    "\n",
    "# Es calcula els autovalors y autovectores de la matriu \n",
    "\n",
    "cov_mat = np.cov(x_scaled.T)\n",
    "\n",
    "eig_vals, eig_vecs = np.linalg.eig(cov_mat)\n",
    "\n",
    "print('Eigenvectors \\n%s' %eig_vecs)\n",
    "print('\\nEigenvalues \\n%s' %eig_vals)"
   ]
  },
  {
   "cell_type": "markdown",
   "metadata": {},
   "source": [
    "Ordenarem una llista per veure que eigevenctor ens dona menys informació per eliminarlo"
   ]
  },
  {
   "cell_type": "code",
   "execution_count": 174,
   "metadata": {},
   "outputs": [
    {
     "name": "stdout",
     "output_type": "stream",
     "text": [
      "Autovalores en orden descendiente:\n",
      "2.4491333388214196\n",
      "1.084169865599309\n",
      "0.9869822800685817\n",
      "0.47985431699258935\n",
      "5.789141127286293e-15\n"
     ]
    }
   ],
   "source": [
    "\n",
    "#  Es crea una lista de parelles (autovector, autovalor) \n",
    "eig_pairs = [(np.abs(eig_vals[i]), eig_vecs[:,i]) for i in range(len(eig_vals))]\n",
    "\n",
    "# Ordenamos la llista\n",
    "eig_pairs.sort(key=lambda x: x[0], reverse=True)\n",
    "\n",
    "# Visualizamos la llista de autovalors \n",
    "print('Autovalores en orden descendiente:')\n",
    "for i in eig_pairs:\n",
    "    print(i[0])"
   ]
  },
  {
   "cell_type": "markdown",
   "metadata": {},
   "source": [
    "Eliminant el tercer vector tindriem mes informació"
   ]
  }
 ],
 "metadata": {
  "kernelspec": {
   "display_name": "Python 3.9.12 ('base')",
   "language": "python",
   "name": "python3"
  },
  "language_info": {
   "codemirror_mode": {
    "name": "ipython",
    "version": 3
   },
   "file_extension": ".py",
   "mimetype": "text/x-python",
   "name": "python",
   "nbconvert_exporter": "python",
   "pygments_lexer": "ipython3",
   "version": "3.9.12"
  },
  "orig_nbformat": 4,
  "vscode": {
   "interpreter": {
    "hash": "92d1741ae8577f2cfed29be513b4c432ea5eb5584b0081136412bf376140f7b8"
   }
  }
 },
 "nbformat": 4,
 "nbformat_minor": 2
}
